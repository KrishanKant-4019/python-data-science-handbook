{
 "cells": [
  {
   "cell_type": "markdown",
   "id": "f083f7d7-fff1-4711-aecb-90fdb80ccd71",
   "metadata": {},
   "source": [
    "# Structured Data: Numpy's Structured Arrays"
   ]
  },
  {
   "cell_type": "code",
   "execution_count": 2,
   "id": "1eba3d9b-7573-493f-9398-d06496fb908b",
   "metadata": {},
   "outputs": [],
   "source": [
    "import numpy as np"
   ]
  },
  {
   "cell_type": "code",
   "execution_count": 5,
   "id": "a136a1a2-2dee-4295-ac4b-30bf3fb8cbdd",
   "metadata": {},
   "outputs": [
    {
     "name": "stdout",
     "output_type": "stream",
     "text": [
      "[('name', '<U10'), ('age', '<i4'), ('weight', '<f8')]\n"
     ]
    }
   ],
   "source": [
    "data = np.zeros(4, dtype = {\"names\" : (\"name\", \"age\", \"weight\"),\n",
    "                            \"formats\" : (\"U10\", \"i4\", \"f8\")})\n",
    "print(data.dtype)"
   ]
  },
  {
   "cell_type": "code",
   "execution_count": 8,
   "id": "744e8b14-f32c-4bd1-b688-7254b933aea8",
   "metadata": {},
   "outputs": [
    {
     "name": "stdout",
     "output_type": "stream",
     "text": [
      "[('Alice', 25, 55. ) ('Bob', 45, 85.5) ('Cathy', 37, 68. )\n",
      " ('Doug', 19, 61.5)]\n"
     ]
    }
   ],
   "source": [
    "name = [\"Alice\", \"Bob\", \"Cathy\", \"Doug\"]\n",
    "age = [25, 45, 37, 19]\n",
    "weight = [55.0, 85.5, 68.0, 61.5]\n",
    "\n",
    "data[\"name\"] = name\n",
    "data[\"age\"] = age\n",
    "data[\"weight\"] = weight\n",
    "print(data)"
   ]
  },
  {
   "cell_type": "code",
   "execution_count": 13,
   "id": "825e5c64-dec2-47cc-a90a-151a8b9ffcfa",
   "metadata": {},
   "outputs": [
    {
     "name": "stdout",
     "output_type": "stream",
     "text": [
      "['Alice' 'Bob' 'Cathy' 'Doug']\n",
      "('Alice', 25, 55.)\n",
      "Doug\n",
      "['Alice' 'Doug']\n"
     ]
    }
   ],
   "source": [
    "# In structured arrays we can refer to values either by index or name\n",
    "print(data[\"name\"])\n",
    "\n",
    "# Get first row of data\n",
    "print(data[0])\n",
    "\n",
    "# Get the name from the last row\n",
    "print(data[-1][\"name\"])\n",
    "\n",
    "# Get names where age is under 30\n",
    "print(data[data[\"age\"] < 30][\"name\"])"
   ]
  },
  {
   "cell_type": "markdown",
   "id": "090bda8c-7e99-46d4-bd3e-8f24da55eaa4",
   "metadata": {},
   "source": [
    "# Creating Structured Arrays"
   ]
  },
  {
   "cell_type": "code",
   "execution_count": 20,
   "id": "d2c02f88-677e-4f8c-92f9-811210dc07ec",
   "metadata": {},
   "outputs": [
    {
     "name": "stdout",
     "output_type": "stream",
     "text": [
      "[('name', '<U10'), ('age', '<i4'), ('weight', '<f8')]\n",
      "[('name', '<U10'), ('age', '<i4'), ('weight', '<f4')]\n"
     ]
    }
   ],
   "source": [
    "# Dictionary Method\n",
    "print(np.dtype({\"names\" : (\"name\", \"age\", \"weight\"),\n",
    "          \"formats\" : (\"U10\", \"i4\", \"f8\")}))\n",
    "\n",
    "# Numerical types can be specified with Python types or Numpy dtypes\n",
    "print(np.dtype({\"names\" : (\"name\", \"age\", \"weight\"),\n",
    "          \"formats\" : ((np.str_, 10), int, np.float32)}))"
   ]
  },
  {
   "cell_type": "code",
   "execution_count": 16,
   "id": "d07f8425-6cf3-45c9-936f-8f482d7e9769",
   "metadata": {},
   "outputs": [
    {
     "name": "stdout",
     "output_type": "stream",
     "text": [
      "[('name', 'S10'), ('age', '<i4'), ('weight', '<f8')]\n"
     ]
    }
   ],
   "source": [
    "# Tuple Method\n",
    "print(np.dtype([(\"name\", \"S10\"), (\"age\", \"i4\"), (\"weight\", \"f8\")]))"
   ]
  },
  {
   "cell_type": "markdown",
   "id": "8785c48a-2628-4bb3-b04c-92b4787dfc2a",
   "metadata": {},
   "source": [
    "# More Advanced Compound Types"
   ]
  },
  {
   "cell_type": "code",
   "execution_count": 22,
   "id": "8a928435-8a82-459b-8720-f180eff7351c",
   "metadata": {},
   "outputs": [
    {
     "name": "stdout",
     "output_type": "stream",
     "text": [
      "(0, [[0., 0., 0.], [0., 0., 0.], [0., 0., 0.]])\n",
      "[[0. 0. 0.]\n",
      " [0. 0. 0.]\n",
      " [0. 0. 0.]]\n"
     ]
    }
   ],
   "source": [
    "tp = np.dtype([(\"id\", \"i8\"), (\"mat\", \"f8\", (3, 3))])\n",
    "X = np.zeros(1, dtype = tp)\n",
    "print(X[0])\n",
    "print(X[\"mat\"][0])"
   ]
  },
  {
   "cell_type": "markdown",
   "id": "cffc8b49-4137-4c68-95ac-750948eefcc0",
   "metadata": {},
   "source": [
    "# RecordArrays: Structured Arrays with a Twist"
   ]
  },
  {
   "cell_type": "code",
   "execution_count": 25,
   "id": "147eff19-68ba-482a-952f-689f8c55c5b3",
   "metadata": {},
   "outputs": [
    {
     "name": "stdout",
     "output_type": "stream",
     "text": [
      "[25 45 37 19]\n",
      "[25 45 37 19]\n"
     ]
    }
   ],
   "source": [
    "# Previously accessed the ages by writing\n",
    "print(data[\"age\"])\n",
    "\n",
    "# We can also access with slightly fewer keystrokes\n",
    "data_rec = data.view(np.recarray)\n",
    "print(data_rec.age)"
   ]
  }
 ],
 "metadata": {
  "kernelspec": {
   "display_name": "Python [conda env:base] *",
   "language": "python",
   "name": "conda-base-py"
  },
  "language_info": {
   "codemirror_mode": {
    "name": "ipython",
    "version": 3
   },
   "file_extension": ".py",
   "mimetype": "text/x-python",
   "name": "python",
   "nbconvert_exporter": "python",
   "pygments_lexer": "ipython3",
   "version": "3.12.4"
  }
 },
 "nbformat": 4,
 "nbformat_minor": 5
}
