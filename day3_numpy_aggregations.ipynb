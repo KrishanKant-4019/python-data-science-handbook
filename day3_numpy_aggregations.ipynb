{
 "cells": [
  {
   "cell_type": "markdown",
   "id": "60828546-94a6-42ad-bff7-7e039a101add",
   "metadata": {},
   "source": [
    "# Summing the Values in an Array"
   ]
  },
  {
   "cell_type": "code",
   "execution_count": 34,
   "id": "6fe653ce-a829-484d-89b3-cc4b1da539f6",
   "metadata": {},
   "outputs": [],
   "source": [
    "import numpy as np"
   ]
  },
  {
   "cell_type": "code",
   "execution_count": 6,
   "id": "dc89c01e-2b25-4ea0-9c56-6b1bf598dad7",
   "metadata": {},
   "outputs": [
    {
     "name": "stdout",
     "output_type": "stream",
     "text": [
      "44.006131658372645\n"
     ]
    }
   ],
   "source": [
    "# Sum using python built-in function\n",
    "L = np.random.random(100) # 100 floating-point numbers between 0 and 1\n",
    "print(sum(L)) "
   ]
  },
  {
   "cell_type": "code",
   "execution_count": 7,
   "id": "bb7e5003-5b94-4d01-818e-bb1c29f3274d",
   "metadata": {},
   "outputs": [
    {
     "data": {
      "text/plain": [
       "44.006131658372674"
      ]
     },
     "execution_count": 7,
     "metadata": {},
     "output_type": "execute_result"
    }
   ],
   "source": [
    "# Sum using numpy function\n",
    "np.sum(L)"
   ]
  },
  {
   "cell_type": "markdown",
   "id": "3b55c4b7-9dd9-411e-b56d-5240851b6de6",
   "metadata": {},
   "source": [
    "# Minimum and Maximum"
   ]
  },
  {
   "cell_type": "code",
   "execution_count": 12,
   "id": "fc3542a0-dd6d-434d-832d-858463bc847a",
   "metadata": {},
   "outputs": [
    {
     "name": "stdout",
     "output_type": "stream",
     "text": [
      "0.9999914511420448\n",
      "3.3924399116425086e-05\n"
     ]
    }
   ],
   "source": [
    "# Minimum and Maximum using python built-in function\n",
    "arr = np.random.random(100000)\n",
    "print(max(arr)) # Maximum\n",
    "print(min(arr)) # Minimum"
   ]
  },
  {
   "cell_type": "code",
   "execution_count": 13,
   "id": "b7337fc1-625c-4754-9f87-90bdd7ff0c57",
   "metadata": {},
   "outputs": [
    {
     "name": "stdout",
     "output_type": "stream",
     "text": [
      "0.9999914511420448\n",
      "3.3924399116425086e-05\n"
     ]
    }
   ],
   "source": [
    "# Using numpy function\n",
    "print(np.max(arr)) # Maximum\n",
    "print(np.min(arr)) # Minimum"
   ]
  },
  {
   "cell_type": "code",
   "execution_count": 17,
   "id": "4aa29f3b-1449-4dd8-825d-cfee8f8ec95a",
   "metadata": {},
   "outputs": [
    {
     "name": "stdout",
     "output_type": "stream",
     "text": [
      "0.9999914511420448\n",
      "3.3924399116425086e-05\n"
     ]
    }
   ],
   "source": [
    "# Shorter Syntax\n",
    "print(arr.max()) # Maximum\n",
    "print(arr.min()) # Minimum"
   ]
  },
  {
   "cell_type": "code",
   "execution_count": 22,
   "id": "8f8e5c18-c028-42a1-af38-ef09554ae3ad",
   "metadata": {},
   "outputs": [
    {
     "name": "stdout",
     "output_type": "stream",
     "text": [
      "[[0.19104684 0.72303427 0.93822601 0.05154787]\n",
      " [0.6492316  0.38496233 0.12502842 0.19830565]\n",
      " [0.32557563 0.07089066 0.51470707 0.74226084]]\n",
      "4.914817204746304\n",
      "[0.19104684 0.07089066 0.12502842 0.05154787]\n",
      "[0.93822601 0.6492316  0.74226084]\n"
     ]
    }
   ],
   "source": [
    "# Multidimensional aggregates\n",
    "M = np.random.random((3,4))\n",
    "print(M)\n",
    "print(M.sum()) # Sum\n",
    "print(M.min(axis = 0)) # Minimum value in first column\n",
    "print(M.max(axis = 1)) # Maximum value in first row"
   ]
  },
  {
   "cell_type": "markdown",
   "id": "880dd170-4915-4cf1-938e-b7f25ae9d44e",
   "metadata": {},
   "source": [
    "# Example: Average Height of US Presidents?"
   ]
  },
  {
   "cell_type": "code",
   "execution_count": 44,
   "id": "7b659c1d-1fd9-4cea-9a49-be7be10da1b2",
   "metadata": {},
   "outputs": [
    {
     "name": "stdout",
     "output_type": "stream",
     "text": [
      "[187.96 170.18 187.96 193.04 175.26 187.96 182.88 180.34 187.96 187.96\n",
      " 190.5  182.88]\n"
     ]
    }
   ],
   "source": [
    "import pandas as pd              \n",
    "              \n",
    "data = pd.read_csv(\"us_presidents_heights.csv\")  # Read the CSV file into a pandas DataFrame\n",
    "heights = np.array(data['Height (cm)'])          # Extract the 'Height (cm)' column and convert it to a NumPy array\n",
    "print(heights)                                   # Print the NumPy array of heights"
   ]
  },
  {
   "cell_type": "code",
   "execution_count": 45,
   "id": "2a79bede-a522-419c-8992-8d4e5fb80d19",
   "metadata": {},
   "outputs": [
    {
     "name": "stdout",
     "output_type": "stream",
     "text": [
      "Mean height: 184.57333333333335\n",
      "Standard deviation: 6.335873174937208\n",
      "Minimum height: 170.18\n",
      "Maximum height: 193.04\n"
     ]
    }
   ],
   "source": [
    "print(\"Mean height:\", heights.mean())\n",
    "print(\"Standard deviation:\", heights.std())\n",
    "print(\"Minimum height:\", heights.min())\n",
    "print(\"Maximum height:\", heights.max())"
   ]
  },
  {
   "cell_type": "code",
   "execution_count": 48,
   "id": "143dd608-6cd5-412e-b332-7eacabdc93f3",
   "metadata": {},
   "outputs": [
    {
     "name": "stdout",
     "output_type": "stream",
     "text": [
      "25th percentile: 182.245\n",
      "Median: 187.96\n",
      "75th percentile: 187.96\n"
     ]
    }
   ],
   "source": [
    "print(\"25th percentile:\", np.percentile(heights, 25))\n",
    "print(\"Median:\", np.median(heights))\n",
    "print(\"75th percentile:\", np.percentile(heights,75))"
   ]
  },
  {
   "cell_type": "code",
   "execution_count": 49,
   "id": "6bf588b9-8ec7-40d4-bdef-fafd42dc45e7",
   "metadata": {},
   "outputs": [
    {
     "data": {
      "image/png": "[encoded data removed]",
      "text/plain": [
       "<Figure size 640x480 with 1 Axes>"
      ]
     },
     "metadata": {},
     "output_type": "display_data"
    }
   ],
   "source": [
    "# Histogram of presidential heights\n",
    "import matplotlib.pyplot as plt\n",
    "import seaborn; seaborn.set() # set plot style\n",
    "\n",
    "plt.hist(heights)\n",
    "plt.title(\"Height Distribution of US Presidents\")\n",
    "plt.xlabel(\"height(cm)\")\n",
    "plt.ylabel(\"number\")\n",
    "plt.show()"
   ]
  },
  {
   "cell_type": "code",
   "execution_count": null,
   "id": "bb46cf0d-be50-42be-b3de-78301ee358ce",
   "metadata": {},
   "outputs": [],
   "source": []
  }
 ],
 "metadata": {
  "kernelspec": {
   "display_name": "Python [conda env:base] *",
   "language": "python",
   "name": "conda-base-py"
  },
  "language_info": {
   "codemirror_mode": {
    "name": "ipython",
    "version": 3
   },
   "file_extension": ".py",
   "mimetype": "text/x-python",
   "name": "python",
   "nbconvert_exporter": "python",
   "pygments_lexer": "ipython3",
   "version": "3.12.4"
  }
 },
 "nbformat": 4,
 "nbformat_minor": 5
}
