{
 "cells": [
  {
   "cell_type": "code",
   "execution_count": 7,
   "id": "12feda16-2766-4655-ae1f-78effa72648e",
   "metadata": {},
   "outputs": [
    {
     "name": "stdout",
     "output_type": "stream",
     "text": [
      "(365,)\n"
     ]
    }
   ],
   "source": [
    "# Example: Counting Rainy Days\n",
    "import numpy as np  \n",
    "import pandas as pd \n",
    "\n",
    "rainfall = pd.read_csv(\"Seattle2014.csv\")[\"PRCP\"].values  # load PRCP column as array\n",
    "inches = rainfall / 254  # convert to inches\n",
    "print(inches.shape)  # array shape"
   ]
  },
  {
   "cell_type": "code",
   "execution_count": 11,
   "id": "d912a7ed-ed65-4439-ac7c-143ee03cc18c",
   "metadata": {},
   "outputs": [
    {
     "data": {
      "image/png": "[encoded data removed]",
      "text/plain": [
       "<Figure size 640x480 with 1 Axes>"
      ]
     },
     "metadata": {},
     "output_type": "display_data"
    }
   ],
   "source": [
    "import matplotlib.pyplot as plt  \n",
    "import seaborn\n",
    "seaborn.set()  # set seaborn's default plot style\n",
    "\n",
    "plt.hist(inches, 40)  # plot histogram of rainfall (40 bins)"
   ]
  },
  {
   "cell_type": "markdown",
   "id": "22b99d0d-15e3-47c6-b294-08e8037aaae5",
   "metadata": {},
   "source": [
    "# Comparison Operators as ufuncs"
   ]
  },
  {
   "cell_type": "code",
   "execution_count": 13,
   "id": "892acf22-3174-47bb-99d4-239499276223",
   "metadata": {},
   "outputs": [],
   "source": [
    "# 1-D Array\n",
    "x = np.array([1, 2, 3, 4, 5])"
   ]
  },
  {
   "cell_type": "code",
   "execution_count": 18,
   "id": "4d247342-8382-466b-91f4-44d708114776",
   "metadata": {},
   "outputs": [
    {
     "name": "stdout",
     "output_type": "stream",
     "text": [
      "[False False False  True  True]\n",
      "[ True  True False False False]\n",
      "[ True  True  True False False]\n",
      "[False False  True  True  True]\n",
      "[ True  True False  True  True]\n",
      "[False False  True False False]\n",
      "[False  True False False False]\n"
     ]
    }
   ],
   "source": [
    "print(x > 3) # greater than\n",
    "print(x < 3) # less than\n",
    "print(x <= 3) # less than or equal\n",
    "print(x >= 3) # greater than or equal\n",
    "print(x != 3) # not equal\n",
    "print(x == 3) # equal\n",
    "\n",
    "# Compound Expression\n",
    "print((2 * x) == (x ** 2))"
   ]
  },
  {
   "cell_type": "code",
   "execution_count": 26,
   "id": "96f37d51-34e9-4765-9b8b-be7e03f6c083",
   "metadata": {},
   "outputs": [
    {
     "name": "stdout",
     "output_type": "stream",
     "text": [
      "[[5 0 3 3]\n",
      " [7 9 3 5]\n",
      " [2 4 7 6]]\n"
     ]
    }
   ],
   "source": [
    "# 2-D Array\n",
    "rng = np.random.RandomState(0)  # create random generator with seed 0\n",
    "x = rng.randint(10, size=(3,4))  # generate 3x4 array of random ints from 0 to 9\n",
    "print(x)  "
   ]
  },
  {
   "cell_type": "code",
   "execution_count": 24,
   "id": "816b373a-bd02-4618-a6f2-4610fe392619",
   "metadata": {},
   "outputs": [
    {
     "name": "stdout",
     "output_type": "stream",
     "text": [
      "[[ True  True  True  True]\n",
      " [False False  True  True]\n",
      " [ True  True False False]]\n"
     ]
    }
   ],
   "source": [
    "print(x < 6)"
   ]
  },
  {
   "cell_type": "markdown",
   "id": "9d1d69f4-e119-4249-a64d-c269c98397eb",
   "metadata": {},
   "source": [
    "# Working with Boolean Arrays"
   ]
  },
  {
   "cell_type": "code",
   "execution_count": 27,
   "id": "546960ba-4dcd-44fb-b91e-9208c849de95",
   "metadata": {},
   "outputs": [
    {
     "name": "stdout",
     "output_type": "stream",
     "text": [
      "[[5 0 3 3]\n",
      " [7 9 3 5]\n",
      " [2 4 7 6]]\n"
     ]
    }
   ],
   "source": [
    "print(x)"
   ]
  },
  {
   "cell_type": "code",
   "execution_count": 28,
   "id": "1de9ee6c-b750-4d48-8135-e825f6e49f09",
   "metadata": {},
   "outputs": [
    {
     "data": {
      "text/plain": [
       "8"
      ]
     },
     "execution_count": 28,
     "metadata": {},
     "output_type": "execute_result"
    }
   ],
   "source": [
    "# Counting entries\n",
    "np.count_nonzero(x < 6) # how many values less than 6?"
   ]
  },
  {
   "cell_type": "code",
   "execution_count": 29,
   "id": "bbde461a-cab4-4fe1-9c2c-b5c8e08f84dc",
   "metadata": {},
   "outputs": [
    {
     "data": {
      "text/plain": [
       "8"
      ]
     },
     "execution_count": 29,
     "metadata": {},
     "output_type": "execute_result"
    }
   ],
   "source": [
    "# Another method to count entries\n",
    "np.sum(x < 6) # False is interpreted as 0 and True is interpreted as 1"
   ]
  },
  {
   "cell_type": "code",
   "execution_count": 30,
   "id": "288dfa76-4d38-4f32-a743-f03a5790f58d",
   "metadata": {},
   "outputs": [
    {
     "data": {
      "text/plain": [
       "array([4, 2, 2])"
      ]
     },
     "execution_count": 30,
     "metadata": {},
     "output_type": "execute_result"
    }
   ],
   "source": [
    "# how many values less than 6 in each row?\n",
    "np.sum(x < 6, axis = 1) "
   ]
  },
  {
   "cell_type": "code",
   "execution_count": 31,
   "id": "5e40e9ef-9f98-4493-8fc2-bc0c8a439f39",
   "metadata": {},
   "outputs": [
    {
     "data": {
      "text/plain": [
       "True"
      ]
     },
     "execution_count": 31,
     "metadata": {},
     "output_type": "execute_result"
    }
   ],
   "source": [
    "# are there any values greater than 8?\n",
    "np.any(x > 8)"
   ]
  },
  {
   "cell_type": "code",
   "execution_count": 32,
   "id": "5472d24a-facb-495f-a0c2-402c777ca00c",
   "metadata": {},
   "outputs": [
    {
     "data": {
      "text/plain": [
       "False"
      ]
     },
     "execution_count": 32,
     "metadata": {},
     "output_type": "execute_result"
    }
   ],
   "source": [
    "# are there any values less than 0?\n",
    "np.any(x < 0)"
   ]
  },
  {
   "cell_type": "code",
   "execution_count": 33,
   "id": "68813a75-729d-4774-bcc0-8e0ce93b6a53",
   "metadata": {},
   "outputs": [
    {
     "data": {
      "text/plain": [
       "True"
      ]
     },
     "execution_count": 33,
     "metadata": {},
     "output_type": "execute_result"
    }
   ],
   "source": [
    "# are all values less than 10?\n",
    "np.all(x < 10)"
   ]
  },
  {
   "cell_type": "code",
   "execution_count": 34,
   "id": "50129349-1914-45ba-9d13-186612eb2cb3",
   "metadata": {},
   "outputs": [
    {
     "data": {
      "text/plain": [
       "False"
      ]
     },
     "execution_count": 34,
     "metadata": {},
     "output_type": "execute_result"
    }
   ],
   "source": [
    "# are all values in each row equal to 6?\n",
    "np.all(x == 6)"
   ]
  },
  {
   "cell_type": "code",
   "execution_count": 35,
   "id": "eb1c4d86-de0a-4ef1-9bd5-860836ba1056",
   "metadata": {},
   "outputs": [
    {
     "data": {
      "text/plain": [
       "array([ True, False,  True])"
      ]
     },
     "execution_count": 35,
     "metadata": {},
     "output_type": "execute_result"
    }
   ],
   "source": [
    "# are all values in each row less than 8?\n",
    "np.all(x < 8, axis = 1)"
   ]
  },
  {
   "cell_type": "code",
   "execution_count": 37,
   "id": "f6f9f189-f26d-4db6-8aaf-b68c7b713f41",
   "metadata": {},
   "outputs": [
    {
     "data": {
      "text/plain": [
       "29"
      ]
     },
     "execution_count": 37,
     "metadata": {},
     "output_type": "execute_result"
    }
   ],
   "source": [
    "# Boolean operators(Using data of counting rainy days example)\n",
    "np.sum((inches > 0.5 ) & (inches < 1)) # Days with rainfall between 0.5 and 1.0 inches"
   ]
  },
  {
   "cell_type": "code",
   "execution_count": 38,
   "id": "f02f3a06-c5aa-45c4-82a5-94820428457b",
   "metadata": {},
   "outputs": [
    {
     "name": "stdout",
     "output_type": "stream",
     "text": [
      "Number of days without rain: 215\n",
      "Number of days with rain: 150\n",
      "Days with more than 0.5 inches: 37\n",
      "Rainy days with < 0.1 inches: 75\n"
     ]
    }
   ],
   "source": [
    "print(\"Number of days without rain:\", np.sum(inches == 0))\n",
    "print(\"Number of days with rain:\", np.sum(inches != 0))\n",
    "print(\"Days with more than 0.5 inches:\", np.sum(inches > 0.5))\n",
    "print(\"Rainy days with < 0.1 inches:\", np.sum((inches > 0) & (inches < 0.2)))"
   ]
  },
  {
   "cell_type": "markdown",
   "id": "726e881c-7791-48b4-9893-15aa63495366",
   "metadata": {},
   "source": [
    "# Boolean Arrays as Masks"
   ]
  },
  {
   "cell_type": "code",
   "execution_count": 41,
   "id": "2dbe84af-2d27-4560-8737-d0c0324f0199",
   "metadata": {},
   "outputs": [
    {
     "name": "stdout",
     "output_type": "stream",
     "text": [
      "[[5 0 3 3]\n",
      " [7 9 3 5]\n",
      " [2 4 7 6]]\n"
     ]
    }
   ],
   "source": [
    "print(x)"
   ]
  },
  {
   "cell_type": "code",
   "execution_count": 42,
   "id": "2e6c0aeb-b446-4fae-b395-8e80d42507f0",
   "metadata": {},
   "outputs": [
    {
     "name": "stdout",
     "output_type": "stream",
     "text": [
      "[0 3 3 3 2 4]\n"
     ]
    }
   ],
   "source": [
    "print(x[x < 5]) # all values which is less than 5"
   ]
  },
  {
   "cell_type": "code",
   "execution_count": 46,
   "id": "4b0055f7-6f52-48b2-b08b-67ca3b0d39da",
   "metadata": {},
   "outputs": [
    {
     "name": "stdout",
     "output_type": "stream",
     "text": [
      "Median precip on rainy days in 2014 (inches): 0.19488188976377951\n",
      "Median precip on summer days in 2014 (inches): 0.0\n",
      "Maximum precip on summer days in 2014 (inches): 0.8503937007874016\n",
      "Median precip on non-summer days in 2014 (inches): 0.20078740157480315\n"
     ]
    }
   ],
   "source": [
    "# Statistics operations on counting rainy day examples\n",
    "\n",
    "# construct a mask of all rainy days\n",
    "rainy = (inches > 0) \n",
    "\n",
    "# construct a mask of all summer days (June 21st is the 172nd day)\n",
    "summer = (np.arange(365) - 172 < 90) & (np.arange(365) - 172 > 0)\n",
    "\n",
    "print(\"Median precipitation on rainy days in 2014 (inches):\", np.median(inches[rainy]))\n",
    "print(\"Median precipitation on summer days in 2014 (inches):\", np.median(inches[summer]))\n",
    "print(\"Maximum precipitation on summer days in 2014 (inches):\", np.max(inches[summer]))\n",
    "print(\"Median precipitation on non-summer days in 2014 (inches):\", np.median(inches[rainy & ~summer]))"
   ]
  },
  {
   "cell_type": "markdown",
   "id": "70f20b21-a66e-4a9a-8f3e-5a7e06dadb93",
   "metadata": {},
   "source": [
    "# Using the Keyword and/or Versus the Operators &/|"
   ]
  },
  {
   "cell_type": "code",
   "execution_count": null,
   "id": "7789f327-826b-4d9c-85c5-47d50efe8a99",
   "metadata": {},
   "outputs": [],
   "source": [
    "# When we use 'and' or 'or', it's equivalent to asking Python to treat the object as a single Boolean entity.\n",
    "# In Python, all non zero integers will evaluate as 'True'."
   ]
  },
  {
   "cell_type": "code",
   "execution_count": 51,
   "id": "854457e0-e8c0-4100-abfb-37d818853b4c",
   "metadata": {},
   "outputs": [
    {
     "data": {
      "text/plain": [
       "(True, False)"
      ]
     },
     "execution_count": 51,
     "metadata": {},
     "output_type": "execute_result"
    }
   ],
   "source": [
    "bool(42), bool(0) "
   ]
  },
  {
   "cell_type": "code",
   "execution_count": 49,
   "id": "6033b68a-d122-4c06-bb94-7109a3a5d0eb",
   "metadata": {},
   "outputs": [
    {
     "data": {
      "text/plain": [
       "False"
      ]
     },
     "execution_count": 49,
     "metadata": {},
     "output_type": "execute_result"
    }
   ],
   "source": [
    "bool(42 and 0)"
   ]
  },
  {
   "cell_type": "code",
   "execution_count": 50,
   "id": "39061f07-7ab5-4b13-9e53-a5c31650110e",
   "metadata": {},
   "outputs": [
    {
     "data": {
      "text/plain": [
       "True"
      ]
     },
     "execution_count": 50,
     "metadata": {},
     "output_type": "execute_result"
    }
   ],
   "source": [
    "bool(42 or 0)"
   ]
  },
  {
   "cell_type": "code",
   "execution_count": null,
   "id": "72082d51-ffde-4fbf-999c-f0fb056c8f80",
   "metadata": {},
   "outputs": [],
   "source": [
    "# When we use '&' and '|' on integers, the expression operates on the bits of the element, applying the 'and' \n",
    "# or 'or' to the individual bits making up the number."
   ]
  },
  {
   "cell_type": "code",
   "execution_count": 52,
   "id": "6cb8c9d5-347f-444d-b4c3-1d0b62df959b",
   "metadata": {},
   "outputs": [
    {
     "data": {
      "text/plain": [
       "'0b101010'"
      ]
     },
     "execution_count": 52,
     "metadata": {},
     "output_type": "execute_result"
    }
   ],
   "source": [
    "bin(42) # Here 'bin' is used to print the binary number"
   ]
  },
  {
   "cell_type": "code",
   "execution_count": 53,
   "id": "53ba9b28-21f4-4871-806e-2e39b94464e7",
   "metadata": {},
   "outputs": [
    {
     "data": {
      "text/plain": [
       "'0b111011'"
      ]
     },
     "execution_count": 53,
     "metadata": {},
     "output_type": "execute_result"
    }
   ],
   "source": [
    "bin(59)"
   ]
  },
  {
   "cell_type": "code",
   "execution_count": 54,
   "id": "5d603a38-eb74-45b5-95d0-93902e86249d",
   "metadata": {},
   "outputs": [
    {
     "data": {
      "text/plain": [
       "'0b101010'"
      ]
     },
     "execution_count": 54,
     "metadata": {},
     "output_type": "execute_result"
    }
   ],
   "source": [
    "bin(42 & 59)"
   ]
  },
  {
   "cell_type": "code",
   "execution_count": 55,
   "id": "53c93baa-2ca5-47b1-ad2c-674feacc6053",
   "metadata": {},
   "outputs": [
    {
     "data": {
      "text/plain": [
       "'0b111011'"
      ]
     },
     "execution_count": 55,
     "metadata": {},
     "output_type": "execute_result"
    }
   ],
   "source": [
    "bin(42 | 59)"
   ]
  },
  {
   "cell_type": "code",
   "execution_count": 60,
   "id": "e32171f0-b5db-49a7-b636-a7160a4d95d1",
   "metadata": {},
   "outputs": [
    {
     "name": "stdout",
     "output_type": "stream",
     "text": [
      "[ True  True  True False  True  True]\n"
     ]
    }
   ],
   "source": [
    "# Example-1\n",
    "A = np.array([1, 0, 1, 0, 1, 0], dtype = bool)\n",
    "B = np.array([1, 1, 1, 0, 1, 1], dtype = bool)\n",
    "print(A | B)\n",
    "# print(A or B) # It will throw an error"
   ]
  },
  {
   "cell_type": "code",
   "execution_count": 63,
   "id": "3a545c2f-8255-45e5-9e04-0e51991b31d9",
   "metadata": {},
   "outputs": [
    {
     "name": "stdout",
     "output_type": "stream",
     "text": [
      "[0 1 2 3 4 5 6 7 8 9]\n",
      "[False False False False False  True  True  True False False]\n"
     ]
    }
   ],
   "source": [
    "# Example-2\n",
    "x = np.arange(10)\n",
    "print(x)\n",
    "print((x > 4) & (x < 8))"
   ]
  },
  {
   "cell_type": "markdown",
   "id": "c4cb1878-4083-4f5c-bdd8-6e4b5081abea",
   "metadata": {},
   "source": [
    "# Exploring Fancy Indexing"
   ]
  },
  {
   "cell_type": "code",
   "execution_count": 73,
   "id": "b245eb85-f5cb-410f-aeb8-11c079bef3ec",
   "metadata": {},
   "outputs": [
    {
     "name": "stdout",
     "output_type": "stream",
     "text": [
      "[51 92 14 71 60 20 82 86 74 74]\n"
     ]
    }
   ],
   "source": [
    "rand = np.random.RandomState(42)\n",
    "\n",
    "x = rand.randint(100, size = 10)\n",
    "print(x)"
   ]
  },
  {
   "cell_type": "code",
   "execution_count": 93,
   "id": "3db93291-c0b8-42ca-8348-6c53de4ede0b",
   "metadata": {},
   "outputs": [
    {
     "name": "stdout",
     "output_type": "stream",
     "text": [
      "[71, 86, 14]\n"
     ]
    }
   ],
   "source": [
    "print([x[3], x[7], x[2]]) # values which is at index 3, 7 & 2"
   ]
  },
  {
   "cell_type": "code",
   "execution_count": 80,
   "id": "c3602c8d-502e-4673-aa6c-461865b57044",
   "metadata": {},
   "outputs": [
    {
     "name": "stdout",
     "output_type": "stream",
     "text": [
      "[71 86 14]\n"
     ]
    }
   ],
   "source": [
    "ind = [3, 7, 2] # array of indices to obtain the same result\n",
    "print(x[ind])"
   ]
  },
  {
   "cell_type": "code",
   "execution_count": 76,
   "id": "e156fd4a-1a1c-4372-b1b3-8e7c6ac842d0",
   "metadata": {},
   "outputs": [
    {
     "name": "stdout",
     "output_type": "stream",
     "text": [
      "[[71 86]\n",
      " [60 20]]\n"
     ]
    }
   ],
   "source": [
    "# shape of the result reflects the shape of the index arrays \n",
    "ind = np.array([[3, 7],\n",
    "                [4, 5]])\n",
    "print(x[ind])"
   ]
  },
  {
   "cell_type": "code",
   "execution_count": 77,
   "id": "88d02fd8-26ba-4bfb-b734-cced6fcaf954",
   "metadata": {},
   "outputs": [
    {
     "name": "stdout",
     "output_type": "stream",
     "text": [
      "[[ 0  1  2  3]\n",
      " [ 4  5  6  7]\n",
      " [ 8  9 10 11]]\n"
     ]
    }
   ],
   "source": [
    "X = np.arange(12).reshape((3, 4))\n",
    "print(X)"
   ]
  },
  {
   "cell_type": "code",
   "execution_count": 82,
   "id": "d2a95754-7d1b-4a1d-8ec5-d9c40f855b4d",
   "metadata": {},
   "outputs": [
    {
     "name": "stdout",
     "output_type": "stream",
     "text": [
      "[ 2  5 11]\n"
     ]
    }
   ],
   "source": [
    "X = np.array([\n",
    "    [ 0,  1,  2,  3],  # 2D array\n",
    "    [ 4,  5,  6,  7],\n",
    "    [ 8,  9, 10, 11]\n",
    "])\n",
    "\n",
    "row = np.array([0, 1, 2])  # row indices\n",
    "col = np.array([2, 1, 3])  # column indices\n",
    "\n",
    "print(X[row, col])  "
   ]
  },
  {
   "cell_type": "code",
   "execution_count": 84,
   "id": "c443187e-b9b2-4427-8f9c-11152ce0dc4a",
   "metadata": {},
   "outputs": [
    {
     "data": {
      "text/plain": [
       "array([[ 2,  1,  3],\n",
       "       [ 6,  5,  7],\n",
       "       [10,  9, 11]])"
      ]
     },
     "execution_count": 84,
     "metadata": {},
     "output_type": "execute_result"
    }
   ],
   "source": [
    "# If we combine a column vector and a row vector within the indices, then we get a 2-D array\n",
    "X[row[:, np.newaxis], col]"
   ]
  },
  {
   "cell_type": "code",
   "execution_count": 85,
   "id": "5e01cee2-52f9-450e-9ad5-5bd112db65a2",
   "metadata": {},
   "outputs": [
    {
     "data": {
      "text/plain": [
       "array([[0, 0, 0],\n",
       "       [2, 1, 3],\n",
       "       [4, 2, 6]])"
      ]
     },
     "execution_count": 85,
     "metadata": {},
     "output_type": "execute_result"
    }
   ],
   "source": [
    "# Example\n",
    "row[:, np.newaxis] * col"
   ]
  },
  {
   "cell_type": "markdown",
   "id": "c8f806fc-a35e-4ae8-a95b-8869b4ac4c33",
   "metadata": {},
   "source": [
    "# Combined Indexing"
   ]
  },
  {
   "cell_type": "code",
   "execution_count": 86,
   "id": "2c880546-9611-409a-bb31-8b63830973f4",
   "metadata": {},
   "outputs": [
    {
     "name": "stdout",
     "output_type": "stream",
     "text": [
      "[[ 0  1  2  3]\n",
      " [ 4  5  6  7]\n",
      " [ 8  9 10 11]]\n"
     ]
    }
   ],
   "source": [
    "print(X)"
   ]
  },
  {
   "cell_type": "code",
   "execution_count": 92,
   "id": "7bec80fc-5a23-41c5-a0d4-5da6ab01c819",
   "metadata": {},
   "outputs": [
    {
     "name": "stdout",
     "output_type": "stream",
     "text": [
      "[ 8  9 10]\n"
     ]
    }
   ],
   "source": [
    "print(X[2, [0, 1, 2]]) # [row index, list of column indices]"
   ]
  },
  {
   "cell_type": "code",
   "execution_count": 98,
   "id": "858e23bc-2185-4f53-bb4c-9bc01f3d77bd",
   "metadata": {},
   "outputs": [
    {
     "name": "stdout",
     "output_type": "stream",
     "text": [
      "[[ 4  5  6]\n",
      " [ 8  9 10]]\n"
     ]
    }
   ],
   "source": [
    "print(X[1:, [0, 1, 2]]) # 2nd and 3rd row, 1st, 2nd and 3rd column"
   ]
  },
  {
   "cell_type": "code",
   "execution_count": 101,
   "id": "705cca4a-93a0-4e05-b0b4-c42bf8c87958",
   "metadata": {},
   "outputs": [
    {
     "name": "stdout",
     "output_type": "stream",
     "text": [
      "[[ 0  2]\n",
      " [ 4  6]\n",
      " [ 8 10]]\n"
     ]
    }
   ],
   "source": [
    "mask = np.array([1, 0, 1, 0], dtype=bool)  # boolean mask selecting columns 0 and 2\n",
    "print(X[row[:, np.newaxis], mask])          # select rows from 'row' and columns where mask=True"
   ]
  },
  {
   "cell_type": "markdown",
   "id": "3d80f336-f36d-44bf-8285-432f6e5c22a9",
   "metadata": {},
   "source": [
    "# Example: Selecting Random Points"
   ]
  },
  {
   "cell_type": "code",
   "execution_count": 105,
   "id": "0baf665a-4105-48d8-a625-a87c8479c944",
   "metadata": {},
   "outputs": [
    {
     "name": "stdout",
     "output_type": "stream",
     "text": [
      "(100, 2)\n"
     ]
    }
   ],
   "source": [
    "mean = [0, 0]                     # Mean vector of the distribution (2D)\n",
    "cov = [[1, 2],                   # Covariance matrix (2x2) specifying variance and covariance\n",
    "       [2, 5]]\n",
    "\n",
    "X = rand.multivariate_normal(mean, cov, 100)  # Generate 100 samples from the 2D Gaussian distribution\n",
    "\n",
    "print(X.shape)                 "
   ]
  },
  {
   "cell_type": "code",
   "execution_count": 106,
   "id": "252f0589-e0e7-476d-b1a8-ec5733878e63",
   "metadata": {},
   "outputs": [
    {
     "data": {
      "image/png": "[encoded data removed]",
      "text/plain": [
       "<Figure size 640x480 with 1 Axes>"
      ]
     },
     "metadata": {},
     "output_type": "display_data"
    }
   ],
   "source": [
    "import matplotlib.pyplot as plt\n",
    "import seaborn\n",
    "seaborn.set() # for plot styling\n",
    "plt.scatter(X[:, 0], X[:, 1])\n",
    "plt.show()"
   ]
  },
  {
   "cell_type": "code",
   "execution_count": 109,
   "id": "77547a0d-a18f-4305-93eb-373fa3328d13",
   "metadata": {},
   "outputs": [
    {
     "name": "stdout",
     "output_type": "stream",
     "text": [
      "[76 79  6 32 74 68 48 51 70 99 98 20 44 89 54 47 49 41 85 36]\n"
     ]
    }
   ],
   "source": [
    "indices = np.random.choice(X.shape[0], 20, replace=False)  # randomly select 20 unique row indices from X\n",
    "print(indices)                                           "
   ]
  },
  {
   "cell_type": "code",
   "execution_count": 112,
   "id": "bac418ef-f47d-4947-86ae-c7f3de7a855f",
   "metadata": {},
   "outputs": [
    {
     "name": "stdout",
     "output_type": "stream",
     "text": [
      "(20, 2)\n"
     ]
    }
   ],
   "source": [
    "selection = X[indices]           # fancy indexing: select rows from X using the indices array\n",
    "print(selection.shape)           "
   ]
  },
  {
   "cell_type": "code",
   "execution_count": 114,
   "id": "bdd9cde7-0ae9-4533-9529-b0c11c178479",
   "metadata": {},
   "outputs": [
    {
     "data": {
      "image/png": "[encoded data removed]",
      "text/plain": [
       "<Figure size 640x480 with 1 Axes>"
      ]
     },
     "metadata": {},
     "output_type": "display_data"
    }
   ],
   "source": [
    "plt.scatter(X[:, 0], X[:, 1], alpha=0.3)                # plot all data points with low opacity \n",
    "\n",
    "plt.scatter(selection[:, 0], selection[:, 1],           # plot the selected 20 points\n",
    "            facecolor='none', s=200)                    # hollow markers (no fill) with larger size (s=200)\n",
    "\n",
    "plt.show()                                              "
   ]
  },
  {
   "cell_type": "markdown",
   "id": "534acb3e-24eb-45a3-8142-29266033a1e8",
   "metadata": {},
   "source": [
    "# Modifying Values with Fancy Indexing"
   ]
  },
  {
   "cell_type": "code",
   "execution_count": 116,
   "id": "02648e5f-429d-4608-82c9-44fcfbecc519",
   "metadata": {},
   "outputs": [
    {
     "name": "stdout",
     "output_type": "stream",
     "text": [
      "[ 0 99 99  3 99  5  6  7 99  9]\n",
      "[ 0 89 89  3 89  5  6  7 89  9]\n"
     ]
    }
   ],
   "source": [
    "x = np.arange(10)\n",
    "i = np.array([2, 1, 8, 4])\n",
    "\n",
    "x[i] = 99\n",
    "print(x)\n",
    "\n",
    "x[i] -= 10\n",
    "print(x)"
   ]
  },
  {
   "cell_type": "code",
   "execution_count": 122,
   "id": "4ab11f34-6ed2-479e-9ed7-c90e24946211",
   "metadata": {},
   "outputs": [
    {
     "name": "stdout",
     "output_type": "stream",
     "text": [
      "[6. 0. 0. 0. 0. 0. 0. 0. 0. 0.]\n",
      "[6. 0. 1. 1. 1. 0. 0. 0. 0. 0.]\n"
     ]
    }
   ],
   "source": [
    "x = np.zeros(10)              \n",
    "\n",
    "x[[0, 0]] = [4, 6]            # assign 4 to x[0], then overwrite it with 6\n",
    "print(x)                      # output: [6. 0. 0. 0. 0. 0. 0. 0. 0. 0.]\n",
    "\n",
    "i = [2, 3, 3, 4, 4, 4]        # list of indices to increment\n",
    "\n",
    "x[i] += 1                     # increments x[2], x[3], x[4] each by 1 (duplicates count only once)\n",
    "print(x)                     "
   ]
  },
  {
   "cell_type": "markdown",
   "id": "c7ef74f4-0b3d-4bb6-835d-04a19f738e3e",
   "metadata": {},
   "source": [
    "# Example: Bining Data"
   ]
  },
  {
   "cell_type": "code",
   "execution_count": 130,
   "id": "1525df28-6a19-4230-9edc-6ec0c6934558",
   "metadata": {},
   "outputs": [
    {
     "data": {
      "image/png": "[encoded data removed]",
      "text/plain": [
       "<Figure size 640x480 with 1 Axes>"
      ]
     },
     "metadata": {},
     "output_type": "display_data"
    }
   ],
   "source": [
    "np.random.seed(42)\n",
    "x = np.random.randn(100) # Generates random numbers from a standard normal distribution (Gaussian distribution),\n",
    "                         # values can be positive or negative\n",
    "\n",
    "# compute a histogram by hand\n",
    "bins = np.linspace(-5, 5, 20)\n",
    "counts = np.zeros_like(bins)\n",
    "\n",
    "# find the appropriate bin for each x\n",
    "i = np.searchsorted(bins, x)\n",
    "\n",
    "# add 1 to each of these bins\n",
    "np.add.at(counts, i, 1)\n",
    "\n",
    "# plot the results\n",
    "plt.hist(x, bins, histtype = 'step')\n",
    "plt.show()"
   ]
  },
  {
   "cell_type": "code",
   "execution_count": null,
   "id": "13960d2e-774c-41e2-974c-16067b69716c",
   "metadata": {},
   "outputs": [],
   "source": []
  }
 ],
 "metadata": {
  "kernelspec": {
   "display_name": "Python [conda env:base] *",
   "language": "python",
   "name": "conda-base-py"
  },
  "language_info": {
   "codemirror_mode": {
    "name": "ipython",
    "version": 3
   },
   "file_extension": ".py",
   "mimetype": "text/x-python",
   "name": "python",
   "nbconvert_exporter": "python",
   "pygments_lexer": "ipython3",
   "version": "3.12.4"
  }
 },
 "nbformat": 4,
 "nbformat_minor": 5
}
