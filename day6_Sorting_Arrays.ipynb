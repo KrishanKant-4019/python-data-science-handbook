{
 "cells": [
  {
   "cell_type": "markdown",
   "id": "f77ce834-4210-4b8e-948c-2a263f30287a",
   "metadata": {},
   "source": [
    "# Sorting Arrays"
   ]
  },
  {
   "cell_type": "code",
   "execution_count": 2,
   "id": "5e5ce49d-9ee4-4b8d-8c19-7d8815f55cd9",
   "metadata": {},
   "outputs": [],
   "source": [
    "import numpy as np"
   ]
  },
  {
   "cell_type": "code",
   "execution_count": 3,
   "id": "ea51a278-a77e-4721-b233-3bd629c78659",
   "metadata": {},
   "outputs": [
    {
     "name": "stdout",
     "output_type": "stream",
     "text": [
      "[1 2 3 4 5]\n"
     ]
    }
   ],
   "source": [
    "# Example-1 -> Selection Sort\n",
    "def selection_sort(x):\n",
    "    for i in range(len(x)):\n",
    "        swap = i + np.argmin(x[i:])\n",
    "        (x[i], x[swap]) = (x[swap], x[i])\n",
    "    return x\n",
    "\n",
    "x = np.array([2, 1, 4, 3, 5])\n",
    "print(selection_sort(x))"
   ]
  },
  {
   "cell_type": "code",
   "execution_count": 4,
   "id": "acee6328-1b28-4303-836f-19485dab0726",
   "metadata": {},
   "outputs": [
    {
     "name": "stdout",
     "output_type": "stream",
     "text": [
      "[1 2 3 4 5]\n"
     ]
    }
   ],
   "source": [
    "# Example-2 -> Bogosort\n",
    "def bogosort(x):\n",
    "    while np.any(x[:-1] > x[1:]):\n",
    "        np.random.shuffle(x)\n",
    "    return x\n",
    "\n",
    "x = np.array([2, 1, 4, 3, 5])\n",
    "print(bogosort(x))"
   ]
  },
  {
   "cell_type": "markdown",
   "id": "42ede338-3d9b-45ba-9649-a5448b05ef9d",
   "metadata": {},
   "source": [
    "# Fast Sorting in Numpy: np.sort and np.argsort"
   ]
  },
  {
   "cell_type": "code",
   "execution_count": 12,
   "id": "e71f0667-6965-4865-b5e7-faf24de185f0",
   "metadata": {},
   "outputs": [
    {
     "name": "stdout",
     "output_type": "stream",
     "text": [
      "[1 2 3 4 5]\n",
      "[2 1 4 3 5]\n"
     ]
    }
   ],
   "source": [
    "x = np.array([2, 1, 4, 3, 5])\n",
    "\n",
    "print(np.sort(x))  # Outputs: [1 2 3 4 5]\n",
    "print(x)           # Outputs: [2 1 4 3 5]  (x is unchanged)"
   ]
  },
  {
   "cell_type": "code",
   "execution_count": 13,
   "id": "c8ac5744-fbe3-42c7-8915-7b7291bc6e79",
   "metadata": {},
   "outputs": [
    {
     "name": "stdout",
     "output_type": "stream",
     "text": [
      "[1 2 3 4 5]\n"
     ]
    }
   ],
   "source": [
    "x.sort()           # Sort in-place\n",
    "print(x)           # Outputs: [1 2 3 4 5]  (x is now sorted)"
   ]
  },
  {
   "cell_type": "code",
   "execution_count": 15,
   "id": "ed0912ce-2787-486b-a8e6-d302a70498ea",
   "metadata": {},
   "outputs": [
    {
     "name": "stdout",
     "output_type": "stream",
     "text": [
      "[1 0 3 2 4]\n",
      "[1 2 3 4 5]\n"
     ]
    }
   ],
   "source": [
    "x = np.array([2, 1, 4, 3, 5])\n",
    "i = np.argsort(x) # returns the indices of the sorted elements\n",
    "\n",
    "print(i)\n",
    "print(x[i])"
   ]
  },
  {
   "cell_type": "code",
   "execution_count": 17,
   "id": "d5708ad7-0850-4257-bfe0-d215f3ba89a4",
   "metadata": {},
   "outputs": [
    {
     "name": "stdout",
     "output_type": "stream",
     "text": [
      "[[6 3 7 4 6 9]\n",
      " [2 6 7 4 3 7]\n",
      " [7 2 5 4 1 7]\n",
      " [5 1 4 0 9 5]]\n"
     ]
    }
   ],
   "source": [
    "# Sorting along rows or columns\n",
    "rand = np.random.RandomState(42)\n",
    "X = rand.randint(0, 10, (4, 6))\n",
    "print(X)"
   ]
  },
  {
   "cell_type": "code",
   "execution_count": 19,
   "id": "dac6fefb-5baf-4f3d-bc52-e2b0dc0b70d4",
   "metadata": {},
   "outputs": [
    {
     "name": "stdout",
     "output_type": "stream",
     "text": [
      "[[2 1 4 0 1 5]\n",
      " [5 2 5 4 3 7]\n",
      " [6 3 7 4 6 7]\n",
      " [7 6 7 4 9 9]]\n"
     ]
    }
   ],
   "source": [
    "# Sort each column of x\n",
    "print(np.sort(X, axis = 0))"
   ]
  },
  {
   "cell_type": "code",
   "execution_count": 20,
   "id": "ec6e4638-04c5-4d76-b88c-54e09162308f",
   "metadata": {},
   "outputs": [
    {
     "name": "stdout",
     "output_type": "stream",
     "text": [
      "[[3 4 6 6 7 9]\n",
      " [2 3 4 6 7 7]\n",
      " [1 2 4 5 7 7]\n",
      " [0 1 4 5 5 9]]\n"
     ]
    }
   ],
   "source": [
    "# Sort each rows of x\n",
    "print(np.sort(X, axis = 1))"
   ]
  },
  {
   "cell_type": "markdown",
   "id": "221ead1c-2c9e-438c-a22b-0f5ca5255fb9",
   "metadata": {},
   "source": [
    "# Partial Sorts: Partitioning"
   ]
  },
  {
   "cell_type": "code",
   "execution_count": 25,
   "id": "ab2e873c-500f-4cf2-be57-4547da1fbab1",
   "metadata": {},
   "outputs": [
    {
     "name": "stdout",
     "output_type": "stream",
     "text": [
      "[2 1 3 4 6 5 7]\n"
     ]
    }
   ],
   "source": [
    "import numpy as np  \n",
    "\n",
    "x = np.array([7, 2, 3, 1, 6, 5, 4]) \n",
    "\n",
    "# Partition the array around the 4th smallest element (index 3)\n",
    "# The element at index 3 will be the 4th smallest in the array\n",
    "# All elements before it will be less than or equal to it\n",
    "# All elements after it will be greater than or equal to it\n",
    "print(np.partition(x, 3)) "
   ]
  },
  {
   "cell_type": "code",
   "execution_count": 24,
   "id": "3283c177-d720-4847-9ea8-70af70a0cb22",
   "metadata": {},
   "outputs": [
    {
     "name": "stdout",
     "output_type": "stream",
     "text": [
      "[[3 4 6 6 7 9]\n",
      " [2 3 4 6 7 7]\n",
      " [2 1 4 5 7 7]\n",
      " [0 4 1 5 9 5]]\n"
     ]
    }
   ],
   "source": [
    "# We can partition along an arbitrary axis of n-D array also\n",
    "print(np.partition(X, 3, axis = 1))"
   ]
  },
  {
   "cell_type": "markdown",
   "id": "eb72ca15-d518-4326-8481-13532de55119",
   "metadata": {},
   "source": [
    "# Example: k-Nearest Neighbors"
   ]
  },
  {
   "cell_type": "code",
   "execution_count": 29,
   "id": "d24b148d-9a09-4cc3-b31c-c3c457392916",
   "metadata": {},
   "outputs": [],
   "source": [
    "X = rand.rand(10, 2)"
   ]
  },
  {
   "cell_type": "code",
   "execution_count": 30,
   "id": "b9459caf-b719-449e-badb-23750004231f",
   "metadata": {},
   "outputs": [
    {
     "data": {
      "image/png": "[encoded data removed]",
      "text/plain": [
       "<Figure size 640x480 with 1 Axes>"
      ]
     },
     "metadata": {},
     "output_type": "display_data"
    }
   ],
   "source": [
    "import matplotlib.pyplot as plt\n",
    "import seaborn \n",
    "seaborn.set() # Plot Styling\n",
    "plt.scatter(X[:, 0], X[:, 1], s = 100)\n",
    "plt.show()"
   ]
  },
  {
   "cell_type": "code",
   "execution_count": 31,
   "id": "9590862e-35ab-40d3-9c51-289a21c56665",
   "metadata": {},
   "outputs": [
    {
     "name": "stdout",
     "output_type": "stream",
     "text": [
      "[[2.59096901 0.62769159]\n",
      " [2.49806482 1.19572563]\n",
      " [0.9045168  3.23448654]\n",
      " [1.0632109  0.64622004]\n",
      " [1.10645558 0.61169549]\n",
      " [1.42505878 0.63065228]\n",
      " [1.03071845 1.93323076]\n",
      " [2.00814533 0.73875049]\n",
      " [1.62315135 1.84617831]\n",
      " [3.08131515 0.71476066]]\n"
     ]
    }
   ],
   "source": [
    "dist_sq = np.sum((X[:, np.newaxis,:] - X[np.newaxis,:,:]) ** 2, axis = 1)\n",
    "print(dist_sq)"
   ]
  },
  {
   "cell_type": "code",
   "execution_count": 32,
   "id": "14889c90-4940-4d4f-b038-25000ed87d39",
   "metadata": {},
   "outputs": [
    {
     "name": "stdout",
     "output_type": "stream",
     "text": [
      "(10, 10, 2)\n"
     ]
    }
   ],
   "source": [
    "# for each pair of points, compute differences in their coordinates\n",
    "differences = X[:, np.newaxis, :] - X[np.newaxis, :, :]\n",
    "print(differences.shape)"
   ]
  },
  {
   "cell_type": "code",
   "execution_count": 33,
   "id": "1e095f29-0a31-44d1-9709-8f40e531de37",
   "metadata": {},
   "outputs": [
    {
     "name": "stdout",
     "output_type": "stream",
     "text": [
      "(10, 10, 2)\n"
     ]
    }
   ],
   "source": [
    "# square the coordinate differences\n",
    "sq_differences = differences ** 2\n",
    "print(sq_differences.shape)"
   ]
  },
  {
   "cell_type": "code",
   "execution_count": 34,
   "id": "cc1bd718-0aed-411f-9795-e044383c12b1",
   "metadata": {},
   "outputs": [
    {
     "name": "stdout",
     "output_type": "stream",
     "text": [
      "(10, 10)\n"
     ]
    }
   ],
   "source": [
    "# sum the coordinate differences to get the squared differences\n",
    "dist_sq = sq_differences.sum(-1)\n",
    "print(dist_sq.shape)"
   ]
  },
  {
   "cell_type": "code",
   "execution_count": 35,
   "id": "0a09f030-f9d0-4c23-8771-ca5f8373f3e2",
   "metadata": {},
   "outputs": [
    {
     "name": "stdout",
     "output_type": "stream",
     "text": [
      "[0. 0. 0. 0. 0. 0. 0. 0. 0. 0.]\n"
     ]
    }
   ],
   "source": [
    "# diagonal of the matrix\n",
    "print(dist_sq.diagonal())"
   ]
  },
  {
   "cell_type": "code",
   "execution_count": 36,
   "id": "ce24415c-98ce-4489-94d0-e66d880dea96",
   "metadata": {},
   "outputs": [
    {
     "name": "stdout",
     "output_type": "stream",
     "text": [
      "[[0 7 1 4 3 6 5 2 8 9]\n",
      " [1 7 0 4 6 3 5 9 2 8]\n",
      " [2 8 5 4 3 0 9 7 6 1]\n",
      " [3 5 6 4 9 8 7 0 1 2]\n",
      " [4 7 0 3 1 5 6 2 8 9]\n",
      " [5 3 9 8 4 6 2 7 0 1]\n",
      " [6 3 5 9 4 7 1 0 8 2]\n",
      " [7 0 1 4 3 6 5 2 8 9]\n",
      " [8 2 5 3 9 4 6 7 0 1]\n",
      " [9 5 3 6 8 4 2 7 1 0]]\n"
     ]
    }
   ],
   "source": [
    "nearest = np.argsort(dist_sq, axis = 1)\n",
    "print(nearest)"
   ]
  },
  {
   "cell_type": "code",
   "execution_count": 37,
   "id": "386f81ee-96dc-4d15-97a7-0acb7028b779",
   "metadata": {},
   "outputs": [
    {
     "name": "stdout",
     "output_type": "stream",
     "text": [
      "[[1 0 7 4 3 5 6 2 8 9]\n",
      " [1 0 7 4 3 5 6 2 8 9]\n",
      " [2 8 5 4 3 0 6 7 1 9]\n",
      " [3 5 6 4 9 1 2 7 8 0]\n",
      " [7 4 0 3 1 5 6 2 8 9]\n",
      " [5 3 9 8 4 1 6 7 2 0]\n",
      " [6 3 5 9 4 1 2 7 8 0]\n",
      " [1 0 7 4 3 5 6 2 8 9]\n",
      " [8 2 5 3 9 4 6 7 1 0]\n",
      " [3 5 9 6 8 4 1 7 2 0]]\n"
     ]
    }
   ],
   "source": [
    "K = 2\n",
    "nearest_partition = np.argpartition(dist_sq, K + 1, axis = 1)\n",
    "print(nearest_partition)"
   ]
  },
  {
   "cell_type": "code",
   "execution_count": 40,
   "id": "9713449d-23ef-4983-b00c-e8351997a476",
   "metadata": {},
   "outputs": [
    {
     "data": {
      "image/png": "[encoded data removed]",
      "text/plain": [
       "<Figure size 640x480 with 1 Axes>"
      ]
     },
     "metadata": {},
     "output_type": "display_data"
    }
   ],
   "source": [
    "plt.scatter(X[:, 0], X[:, 1], s = 100)\n",
    "\n",
    "# draw lines from each point to its two nearest neighbors\n",
    "K = 2\n",
    "\n",
    "for i in range(X.shape[0]):\n",
    "    for j in nearest_partition[i, :K + 1]:\n",
    "        # plot a line from X[i] to X[j]\n",
    "        # use some zip magic to make it happen:\n",
    "        plt.plot(*zip(X[j], X[i]), color = \"black\")\n",
    "plt.show()"
   ]
  }
 ],
 "metadata": {
  "kernelspec": {
   "display_name": "Python [conda env:base] *",
   "language": "python",
   "name": "conda-base-py"
  },
  "language_info": {
   "codemirror_mode": {
    "name": "ipython",
    "version": 3
   },
   "file_extension": ".py",
   "mimetype": "text/x-python",
   "name": "python",
   "nbconvert_exporter": "python",
   "pygments_lexer": "ipython3",
   "version": "3.12.4"
  }
 },
 "nbformat": 4,
 "nbformat_minor": 5
}
