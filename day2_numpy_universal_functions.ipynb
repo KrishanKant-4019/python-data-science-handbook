{
 "cells": [
  {
   "cell_type": "markdown",
   "id": "639a002b-8b4f-4c6b-b398-01423ea77607",
   "metadata": {},
   "source": [
    "# Exploring Numpy's UFuncs"
   ]
  },
  {
   "cell_type": "code",
   "execution_count": 2,
   "id": "00bf5a0a-5cfc-436b-85da-08673024c7b4",
   "metadata": {},
   "outputs": [],
   "source": [
    "import numpy as np"
   ]
  },
  {
   "cell_type": "code",
   "execution_count": 6,
   "id": "2080d4d2-4083-4af0-9d37-b1528f5ccfb4",
   "metadata": {},
   "outputs": [
    {
     "name": "stdout",
     "output_type": "stream",
     "text": [
      "x = [0 1 2 3]\n",
      "x + 5 =  [5 6 7 8]\n",
      "x - 5 =  [-5 -4 -3 -2]\n",
      "x * 2 =  [0 2 4 6]\n",
      "x / 2 =  [0.  0.5 1.  1.5]\n",
      "x // 2 =  [0 0 1 1]\n"
     ]
    }
   ],
   "source": [
    "# Array Arithmetic\n",
    "x = np.arange(4)\n",
    "print(\"x =\", x)\n",
    "print(\"x + 5 = \", x + 5)\n",
    "print(\"x - 5 = \", x - 5)\n",
    "print(\"x * 2 = \", x * 2)\n",
    "print(\"x / 2 = \", x / 2)\n",
    "print(\"x // 2 = \", x // 2) # floor division"
   ]
  },
  {
   "cell_type": "code",
   "execution_count": 9,
   "id": "d7f1c3d8-4f6b-4dfd-b3a6-dee24973a73f",
   "metadata": {},
   "outputs": [
    {
     "name": "stdout",
     "output_type": "stream",
     "text": [
      "-x =  [ 0 -1 -2 -3]\n",
      "x ** 2 =  [0 1 4 9]\n",
      "x % 2 =  [0 1 0 1]\n",
      "[-1.   -2.25 -4.   -6.25]\n"
     ]
    }
   ],
   "source": [
    "# Unary UFuncs -> It operates on single input.\n",
    "print(\"-x = \", -x) # Negation\n",
    "print(\"x ** 2 = \", x ** 2) # Exponentiation\n",
    "print(\"x % 2 = \", x % 2) # Modulus\n",
    "\n",
    "# Example\n",
    "print(-(0.5*x + 1) ** 2)"
   ]
  },
  {
   "cell_type": "code",
   "execution_count": 14,
   "id": "30628578-7020-4ea4-9bb5-a4a205d9478b",
   "metadata": {},
   "outputs": [
    {
     "name": "stdout",
     "output_type": "stream",
     "text": [
      "[2 3 4 5]\n",
      "[-2 -1  0  1]\n",
      "[0 2 4 6]\n",
      "[0.  0.5 1.  1.5]\n",
      "[ 0 -1 -2 -3]\n",
      "[0 0 1 1]\n",
      "[0 1 4 9]\n",
      "[0 1 0 1]\n"
     ]
    }
   ],
   "source": [
    "# Arithmetic operations using Numpy's Mathematical Functions\n",
    "print(np.add(x, 2))          # Addition\n",
    "print(np.subtract(x, 2))     # Subtraction\n",
    "print(np.multiply(x, 2))     # Multiplication\n",
    "print(np.divide(x, 2))       # Division\n",
    "print(np.negative(x))        # Negation\n",
    "print(np.floor_divide(x, 2)) # Floor Division\n",
    "print(np.power(x, 2))        # Exponentiation\n",
    "print(np.mod(x,2))           # Modulus"
   ]
  },
  {
   "cell_type": "code",
   "execution_count": 17,
   "id": "899d80fd-79f0-4f55-b49a-c9935ae29642",
   "metadata": {},
   "outputs": [
    {
     "name": "stdout",
     "output_type": "stream",
     "text": [
      "[2 1 0 1 2]\n",
      "[2 1 0 1 2]\n",
      "[5. 5. 2. 1.]\n"
     ]
    }
   ],
   "source": [
    "# Absolute Value(Python built-in function)\n",
    "x = np.array([-2, -1, 0, 1, 2])\n",
    "print(abs(x)) \n",
    "\n",
    "# Absolute Value(Numpy Function)\n",
    "print(np.abs(x))\n",
    "\n",
    "# Complex data(returns the magnitude)\n",
    "y = np.array([3 - 4j, 4 - 3j, 2 + 0j, 0 + 1j])\n",
    "print(np.abs(y))"
   ]
  },
  {
   "cell_type": "code",
   "execution_count": 27,
   "id": "ab136d46-26e2-45cf-ab54-686082d646cc",
   "metadata": {},
   "outputs": [
    {
     "name": "stdout",
     "output_type": "stream",
     "text": [
      "theta =  [0.         1.57079633 3.14159265]\n",
      "sin(theta) =  [0.0000000e+00 1.0000000e+00 1.2246468e-16]\n",
      "cos(theta) =  [ 1.000000e+00  6.123234e-17 -1.000000e+00]\n",
      "tan(theta) =  [ 0.00000000e+00  1.63312394e+16 -1.22464680e-16]\n",
      "y =  [-1, 0, 1]\n",
      "arcsin(y) =  [-1.57079633  0.          1.57079633]\n",
      "arccos(y) =  [3.14159265 1.57079633 0.        ]\n",
      "arctan(y) =  [-0.78539816  0.          0.78539816]\n"
     ]
    }
   ],
   "source": [
    "# Trigonometric Functions\n",
    "theta = np.linspace(0, np.pi, 3)\n",
    "print(\"theta = \", theta)\n",
    "print(\"sin(theta) = \", np.sin(theta))\n",
    "print(\"cos(theta) = \", np.cos(theta))\n",
    "print(\"tan(theta) = \", np.tan(theta))\n",
    "\n",
    "# Inverse Trigonometric Functions\n",
    "y = [-1, 0, 1]\n",
    "print(\"y = \", y)\n",
    "print(\"arcsin(y) = \", np.arcsin(y))\n",
    "print(\"arccos(y) = \", np.arccos(y))\n",
    "print(\"arctan(y) = \", np.arctan(y))"
   ]
  },
  {
   "cell_type": "code",
   "execution_count": 30,
   "id": "d687e824-8cb3-4e4b-b42b-bb82c6c6cb57",
   "metadata": {},
   "outputs": [
    {
     "name": "stdout",
     "output_type": "stream",
     "text": [
      "x =  [1, 2, 3]\n",
      "e^x =  [ 2.71828183  7.3890561  20.08553692]\n",
      "2^x =  [2. 4. 8.]\n",
      "3^x =  [ 3  9 27]\n"
     ]
    }
   ],
   "source": [
    "# Exponential Functions\n",
    "x = [1, 2, 3]\n",
    "print(\"x = \", x)\n",
    "print(\"e^x = \", np.exp(x))\n",
    "print(\"2^x = \", np.exp2(x))\n",
    "print(\"3^x = \", np.power(3, x))"
   ]
  },
  {
   "cell_type": "code",
   "execution_count": 31,
   "id": "03101e69-7783-4056-97d7-6ab648413b66",
   "metadata": {},
   "outputs": [
    {
     "name": "stdout",
     "output_type": "stream",
     "text": [
      "x =  [1, 2, 4, 10]\n",
      "ln(x) =  [0.         0.69314718 1.38629436 2.30258509]\n",
      "log2(x) =  [0.         1.         2.         3.32192809]\n",
      "log10(x) =  [0.         0.30103    0.60205999 1.        ]\n"
     ]
    }
   ],
   "source": [
    "# Logarithmic Functions\n",
    "x = [1, 2, 4, 10]\n",
    "print(\"x = \", x)\n",
    "print(\"ln(x) = \", np.log(x)) # Natural log\n",
    "print(\"log2(x) = \", np.log2(x))\n",
    "print(\"log10(x) = \", np.log10(x))"
   ]
  },
  {
   "cell_type": "code",
   "execution_count": 32,
   "id": "67c5d707-2653-4190-bb39-2bf271103adc",
   "metadata": {},
   "outputs": [
    {
     "name": "stdout",
     "output_type": "stream",
     "text": [
      "exp(x) - 1 =  [0.         0.0010005  0.01005017 0.10517092]\n",
      "log(1 + x) =  [0.         0.0009995  0.00995033 0.09531018]\n"
     ]
    }
   ],
   "source": [
    "# Some specialized functions(works on very small input, gives more precise values)\n",
    "x = [0, 0.001, 0.01, 0.1]\n",
    "print(\"exp(x) - 1 = \", np.expm1(x))\n",
    "print(\"log(1 + x) = \", np.log1p(x))"
   ]
  },
  {
   "cell_type": "code",
   "execution_count": 38,
   "id": "c11874de-7f71-4fa0-a056-67c84906a651",
   "metadata": {},
   "outputs": [
    {
     "name": "stdout",
     "output_type": "stream",
     "text": [
      "gamma(x) =  [1.0000e+00 2.4000e+01 3.6288e+05]\n",
      "ln|gmma(x)| =  [ 0.          3.17805383 12.80182748]\n",
      "beta(x, 2) =  [0.5        0.03333333 0.00909091]\n",
      "erf(x) =  [0.         0.32862676 0.67780119 0.84270079]\n",
      "erfc(x) =  [1.         0.67137324 0.32219881 0.15729921]\n",
      "erfinv(x) =  [0.         0.27246271 0.73286908        inf]\n"
     ]
    }
   ],
   "source": [
    "# Specialized ufuncs\n",
    "from scipy import special\n",
    "\n",
    "# Gamma functions (generalized factorials) and related functions\n",
    "x = [1, 5, 10]\n",
    "print(\"gamma(x) = \", special.gamma(x)) # Gamma functions [(n-1)!] always return floating-point number\n",
    "print(\"ln|gmma(x)| = \", special.gammaln(x)) # Natural logarithm of the absolute value of the Gamma function\n",
    "print(\"beta(x, 2) = \", special.beta(x, 2)) # Beta function\n",
    "\n",
    "# Error Function (integral of Gaussian)\n",
    "x = np.array([0, 0.3, 0.7, 1.0])\n",
    "print(\"erf(x) = \", special.erf(x))\n",
    "print(\"erfc(x) = \", special.erfc(x)) # Complement of error function\n",
    "print(\"erfinv(x) = \", special.erfinv(x)) # Inverse of error function"
   ]
  },
  {
   "cell_type": "markdown",
   "id": "877967a9-1dc8-4f6f-bfce-e8457c311c3e",
   "metadata": {},
   "source": [
    "# Advanced UFunc Features"
   ]
  },
  {
   "cell_type": "code",
   "execution_count": 40,
   "id": "fb871843-0025-4d92-86c1-6b4e1098ca64",
   "metadata": {},
   "outputs": [
    {
     "name": "stdout",
     "output_type": "stream",
     "text": [
      "[ 0. 10. 20. 30. 40.]\n"
     ]
    }
   ],
   "source": [
    "# Specifying output\n",
    "x = np.arange(5)\n",
    "y = np.empty(5)\n",
    "np.multiply(x, 10, out = y) # Storing the output in 'y' instead of creating new array\n",
    "print(y)"
   ]
  },
  {
   "cell_type": "code",
   "execution_count": 42,
   "id": "1435492a-5ff2-4d9c-83bc-28c7f341baa6",
   "metadata": {},
   "outputs": [
    {
     "name": "stdout",
     "output_type": "stream",
     "text": [
      "[ 1.  0.  2.  0.  4.  0.  8.  0. 16.  0.]\n"
     ]
    }
   ],
   "source": [
    "# Specifying output with array views\n",
    "y = np.zeros(10)\n",
    "np.power(2, x , out = y[::2])\n",
    "print(y)"
   ]
  },
  {
   "cell_type": "code",
   "execution_count": 46,
   "id": "38552ba7-6898-4053-960b-1d4aa46049d6",
   "metadata": {},
   "outputs": [
    {
     "data": {
      "text/plain": [
       "15"
      ]
     },
     "execution_count": 46,
     "metadata": {},
     "output_type": "execute_result"
    }
   ],
   "source": [
    "# Aggregates\n",
    "x = np.arange(1, 6)\n",
    "# np.add.reduce applies the add function cumulatively to the elements of x,\n",
    "# effectively summing all the elements step-by-step to produce a single value.\n",
    "np.add.reduce(x)"
   ]
  },
  {
   "cell_type": "code",
   "execution_count": 47,
   "id": "bf7b8404-80a8-40be-934d-f2fd32bfd506",
   "metadata": {},
   "outputs": [
    {
     "data": {
      "text/plain": [
       "120"
      ]
     },
     "execution_count": 47,
     "metadata": {},
     "output_type": "execute_result"
    }
   ],
   "source": [
    "np.multiply.reduce(x)"
   ]
  },
  {
   "cell_type": "code",
   "execution_count": 48,
   "id": "76ce09e0-e5d4-4c38-922e-33b270d28a87",
   "metadata": {},
   "outputs": [
    {
     "data": {
      "text/plain": [
       "array([ 1,  3,  6, 10, 15])"
      ]
     },
     "execution_count": 48,
     "metadata": {},
     "output_type": "execute_result"
    }
   ],
   "source": [
    "np.add.accumulate(x)"
   ]
  },
  {
   "cell_type": "code",
   "execution_count": 49,
   "id": "2897ef1f-4d42-4695-90fa-a12d14db4807",
   "metadata": {},
   "outputs": [
    {
     "data": {
      "text/plain": [
       "array([  1,   2,   6,  24, 120])"
      ]
     },
     "execution_count": 49,
     "metadata": {},
     "output_type": "execute_result"
    }
   ],
   "source": [
    "np.multiply.accumulate(x)"
   ]
  },
  {
   "cell_type": "code",
   "execution_count": 59,
   "id": "fc9a4702-5af3-469f-b84a-51a67e5c2829",
   "metadata": {},
   "outputs": [
    {
     "data": {
      "text/plain": [
       "array([[  1,   2,   3,   4,   5,   6,   7,   8,   9,  10],\n",
       "       [  2,   4,   6,   8,  10,  12,  14,  16,  18,  20],\n",
       "       [  3,   6,   9,  12,  15,  18,  21,  24,  27,  30],\n",
       "       [  4,   8,  12,  16,  20,  24,  28,  32,  36,  40],\n",
       "       [  5,  10,  15,  20,  25,  30,  35,  40,  45,  50],\n",
       "       [  6,  12,  18,  24,  30,  36,  42,  48,  54,  60],\n",
       "       [  7,  14,  21,  28,  35,  42,  49,  56,  63,  70],\n",
       "       [  8,  16,  24,  32,  40,  48,  56,  64,  72,  80],\n",
       "       [  9,  18,  27,  36,  45,  54,  63,  72,  81,  90],\n",
       "       [ 10,  20,  30,  40,  50,  60,  70,  80,  90, 100]])"
      ]
     },
     "execution_count": 59,
     "metadata": {},
     "output_type": "execute_result"
    }
   ],
   "source": [
    "# Outer Products\n",
    "x = np.arange(1, 11)\n",
    "\n",
    "# Compute the outer product of x with itself.\n",
    "# Result is a 2D array where each element (i, j) = x[i] * x[j]\n",
    "np.multiply.outer(x, x)"
   ]
  }
 ],
 "metadata": {
  "kernelspec": {
   "display_name": "Python [conda env:base] *",
   "language": "python",
   "name": "conda-base-py"
  },
  "language_info": {
   "codemirror_mode": {
    "name": "ipython",
    "version": 3
   },
   "file_extension": ".py",
   "mimetype": "text/x-python",
   "name": "python",
   "nbconvert_exporter": "python",
   "pygments_lexer": "ipython3",
   "version": "3.12.4"
  }
 },
 "nbformat": 4,
 "nbformat_minor": 5
}
