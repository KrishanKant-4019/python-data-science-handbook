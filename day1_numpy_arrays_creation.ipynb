{
 "cells": [
  {
   "cell_type": "markdown",
   "id": "2fa1fb7b-6558-498e-b907-d093f882d1e4",
   "metadata": {},
   "source": [
    "# Importing Numpy"
   ]
  },
  {
   "cell_type": "code",
   "execution_count": 1,
   "id": "d03855c6-622c-4da7-af10-7aa9c0caecb0",
   "metadata": {},
   "outputs": [
    {
     "data": {
      "text/plain": [
       "'1.26.4'"
      ]
     },
     "execution_count": 1,
     "metadata": {},
     "output_type": "execute_result"
    }
   ],
   "source": [
    "import numpy as np\n",
    "np.__version__ #Numpy version checking"
   ]
  },
  {
   "cell_type": "markdown",
   "id": "c4c3dcb8-eb9a-4dbe-b97b-e9e6790aa551",
   "metadata": {},
   "source": [
    "# Fixed-Type Arrays in Python"
   ]
  },
  {
   "cell_type": "code",
   "execution_count": 2,
   "id": "0d31417f-af80-43ce-87b9-53b72ac61592",
   "metadata": {},
   "outputs": [
    {
     "name": "stdout",
     "output_type": "stream",
     "text": [
      "array('i', [0, 1, 2, 3, 4, 5, 6, 7, 8, 9])\n"
     ]
    }
   ],
   "source": [
    "import array\n",
    "L = list(range(10))\n",
    "A = array.array('i',L)\n",
    "print(A)"
   ]
  },
  {
   "cell_type": "markdown",
   "id": "2ddc6ee4-2642-4903-8f0f-ba5f53d934c0",
   "metadata": {},
   "source": [
    "# Creating Arrays from Python Lists"
   ]
  },
  {
   "cell_type": "code",
   "execution_count": 3,
   "id": "b7db89f5-e1d7-4847-9dbc-05a5a575c7d0",
   "metadata": {},
   "outputs": [
    {
     "name": "stdout",
     "output_type": "stream",
     "text": [
      "[1 2 3 4 5]\n"
     ]
    }
   ],
   "source": [
    "a = np.array([1, 2, 3, 4, 5])\n",
    "print(a)"
   ]
  },
  {
   "cell_type": "code",
   "execution_count": 4,
   "id": "610ea629-ed08-457c-8810-dd86132a6446",
   "metadata": {},
   "outputs": [
    {
     "name": "stdout",
     "output_type": "stream",
     "text": [
      "[3.14 3.   2.5  4.   6.  ]\n"
     ]
    }
   ],
   "source": [
    "b = np.array([3.14, 3, 2.5, 4, 6]) \n",
    "print(b) # Integer value typecasted to float value automatically"
   ]
  },
  {
   "cell_type": "code",
   "execution_count": 5,
   "id": "787c4c9d-a539-4db9-9c6f-cb04eb4d316d",
   "metadata": {},
   "outputs": [
    {
     "name": "stdout",
     "output_type": "stream",
     "text": [
      "[3 3 2 4 6]\n"
     ]
    }
   ],
   "source": [
    "# Explicitly converting from one data type to another\n",
    "c = np.array([3.14, 3, 2.5, 4, 6], dtype = \"int32\")\n",
    "print(c)"
   ]
  },
  {
   "cell_type": "code",
   "execution_count": 6,
   "id": "8759cd45-532d-4a71-9298-c754ccde8b1e",
   "metadata": {},
   "outputs": [
    {
     "name": "stdout",
     "output_type": "stream",
     "text": [
      "[[2 3 4]\n",
      " [4 5 6]\n",
      " [6 7 8]]\n"
     ]
    }
   ],
   "source": [
    "# Nested lists result in multidimensional array\n",
    "d = np.array([range(i, i+3) for i in [2, 4, 6]])\n",
    "print(d)"
   ]
  },
  {
   "cell_type": "markdown",
   "id": "d8c3e733-4060-403d-885d-d985fdde0f5f",
   "metadata": {},
   "source": [
    "# Creating Array from Scratch"
   ]
  },
  {
   "cell_type": "code",
   "execution_count": 7,
   "id": "4e9c8889-6440-4dfa-ab48-3943fc7c5f33",
   "metadata": {},
   "outputs": [
    {
     "name": "stdout",
     "output_type": "stream",
     "text": [
      "[0 0 0 0 0 0 0 0 0 0]\n"
     ]
    }
   ],
   "source": [
    "# Create a length-10 integer array filled with zeros\n",
    "a = np.zeros(10, dtype = int)\n",
    "print(a)"
   ]
  },
  {
   "cell_type": "code",
   "execution_count": 8,
   "id": "49d556ba-e43c-4b04-9005-ecf3319dc29e",
   "metadata": {},
   "outputs": [
    {
     "name": "stdout",
     "output_type": "stream",
     "text": [
      "[[1. 1. 1. 1. 1.]\n",
      " [1. 1. 1. 1. 1.]\n",
      " [1. 1. 1. 1. 1.]]\n"
     ]
    }
   ],
   "source": [
    "# Create a 3x5 floating-point array filled with 1's\n",
    "b = np.ones((3,5), dtype = float)\n",
    "print(b)"
   ]
  },
  {
   "cell_type": "code",
   "execution_count": 9,
   "id": "3c9cd302-a0bd-467e-8029-e9ad11ac3fdd",
   "metadata": {},
   "outputs": [
    {
     "name": "stdout",
     "output_type": "stream",
     "text": [
      "[[3.14 3.14 3.14 3.14 3.14]\n",
      " [3.14 3.14 3.14 3.14 3.14]\n",
      " [3.14 3.14 3.14 3.14 3.14]]\n"
     ]
    }
   ],
   "source": [
    "# Create a 3x5 array filled with 3.14\n",
    "c = np.full((3, 5), 3.14)\n",
    "print(c)"
   ]
  },
  {
   "cell_type": "code",
   "execution_count": 10,
   "id": "a5ee5321-1222-4ed3-85e3-517fb04b5747",
   "metadata": {},
   "outputs": [
    {
     "name": "stdout",
     "output_type": "stream",
     "text": [
      "[ 0  2  4  6  8 10 12 14 16 18]\n"
     ]
    }
   ],
   "source": [
    "# Creating an array filled with a linear sequence. Starting at 0, ending at 20, stepping by 2.(this is similar to the built-in range() function)\n",
    "d = np.arange(0, 20, 2)\n",
    "print(d)"
   ]
  },
  {
   "cell_type": "code",
   "execution_count": 11,
   "id": "89f0890b-dbcf-49f2-9dbe-ad5f09cad7c6",
   "metadata": {},
   "outputs": [
    {
     "name": "stdout",
     "output_type": "stream",
     "text": [
      "[0.   0.25 0.5  0.75 1.  ]\n"
     ]
    }
   ],
   "source": [
    "# Create an array of five values evenly spaced between 0 and 1 \n",
    "e = np.linspace(0, 1, 5)\n",
    "print(e)"
   ]
  },
  {
   "cell_type": "code",
   "execution_count": 12,
   "id": "71481e1e-9ef7-4847-8daf-55096b7a94b8",
   "metadata": {},
   "outputs": [
    {
     "name": "stdout",
     "output_type": "stream",
     "text": [
      "[[0.63690334 0.62056252 0.00818246]\n",
      " [0.60011317 0.09446509 0.40209602]\n",
      " [0.02312981 0.21055056 0.97488972]]\n"
     ]
    }
   ],
   "source": [
    "# Create a 3x3 array of uniformly distributed random values between 0 and 1\n",
    "f = np.random.random((3,3)) # It always produce float values between 0 and 1.\n",
    "print(f)"
   ]
  },
  {
   "cell_type": "code",
   "execution_count": 13,
   "id": "3166585d-95ae-4441-9e1d-3441cd82d916",
   "metadata": {},
   "outputs": [
    {
     "name": "stdout",
     "output_type": "stream",
     "text": [
      "[[ 1.56234819 -0.1261278  -0.71971331]\n",
      " [ 1.08623359 -0.53863393  1.25484787]\n",
      " [ 0.23306842 -0.91292076 -1.29737104]]\n"
     ]
    }
   ],
   "source": [
    "# Create a 3x3 array of normally distributed random values with mean 0 and standard deviation 1\n",
    "g = np.random.normal(0, 1, (3,3)) #[Mean, Standard Deviation, Size] and it can produce any real value.\n",
    "print(g)"
   ]
  },
  {
   "cell_type": "code",
   "execution_count": 14,
   "id": "5090e095-9f9a-4985-a5f3-e2d2fc0d52e7",
   "metadata": {},
   "outputs": [
    {
     "name": "stdout",
     "output_type": "stream",
     "text": [
      "[[7 8 1]\n",
      " [8 3 4]\n",
      " [9 2 9]]\n"
     ]
    }
   ],
   "source": [
    "# Create a 3x3 array of random integers in the interval (0,10)\n",
    "h = np.random.randint(0, 10, (3,3)) #[Start, End, Size] and it produces value from a specified range.\n",
    "print(h)"
   ]
  },
  {
   "cell_type": "code",
   "execution_count": 15,
   "id": "1ab8ce58-ba8e-4b25-a12e-a18aaa88de72",
   "metadata": {},
   "outputs": [
    {
     "name": "stdout",
     "output_type": "stream",
     "text": [
      "[[1. 0. 0.]\n",
      " [0. 1. 0.]\n",
      " [0. 0. 1.]]\n"
     ]
    }
   ],
   "source": [
    "# Create a 3x3 identity matrix\n",
    "i = np.eye(3)\n",
    "print(i)"
   ]
  },
  {
   "cell_type": "code",
   "execution_count": 16,
   "id": "b31b0985-59a2-4396-b796-ea2ad686e16d",
   "metadata": {},
   "outputs": [
    {
     "name": "stdout",
     "output_type": "stream",
     "text": [
      "[1. 1. 1.]\n"
     ]
    }
   ],
   "source": [
    "# Create an uninitialized array of three integers. The values will be whatever happens to already exist at that memory loaction\n",
    "j = np.empty(3)\n",
    "print(j)"
   ]
  },
  {
   "cell_type": "markdown",
   "id": "aedf1673-78d6-4f13-8b05-b327ca826b91",
   "metadata": {},
   "source": [
    "# Numpy Standard Data Types"
   ]
  },
  {
   "cell_type": "code",
   "execution_count": 17,
   "id": "bae480f7-b868-4b2d-a725-037fe414d9e2",
   "metadata": {},
   "outputs": [
    {
     "name": "stdout",
     "output_type": "stream",
     "text": [
      "[0 0 0 0 0 0 0 0 0 0]\n"
     ]
    }
   ],
   "source": [
    "a = np.zeros(10, dtype = \"int16\")\n",
    "print(a)"
   ]
  },
  {
   "cell_type": "code",
   "execution_count": 18,
   "id": "27f5f00d-d41b-4762-85e3-7b6da72c22ed",
   "metadata": {},
   "outputs": [
    {
     "name": "stdout",
     "output_type": "stream",
     "text": [
      "[1. 1. 1. 1. 1. 1. 1. 1. 1. 1.]\n"
     ]
    }
   ],
   "source": [
    "b = np.ones(10, dtype = np.float32)\n",
    "print(b)"
   ]
  },
  {
   "cell_type": "markdown",
   "id": "997b89f2-03cf-4e9a-952f-e15b1ced37d4",
   "metadata": {},
   "source": [
    "# Numpy Attributes"
   ]
  },
  {
   "cell_type": "code",
   "execution_count": 19,
   "id": "d6bd52ee-d510-45a7-b6f9-3ccb2ce0974d",
   "metadata": {},
   "outputs": [],
   "source": [
    "np.random.seed(0) # Seed for reproducibility"
   ]
  },
  {
   "cell_type": "code",
   "execution_count": 20,
   "id": "7a6be893-453a-4b97-a261-b41566cd93e3",
   "metadata": {},
   "outputs": [
    {
     "name": "stdout",
     "output_type": "stream",
     "text": [
      "[5 0 3 3 7 9]\n"
     ]
    }
   ],
   "source": [
    "a = np.random.randint(10, size = 6) # 1-D Array\n",
    "print(a)"
   ]
  },
  {
   "cell_type": "code",
   "execution_count": 21,
   "id": "9ae49fe2-e70f-4643-ba94-7ef163bf3ef5",
   "metadata": {},
   "outputs": [
    {
     "name": "stdout",
     "output_type": "stream",
     "text": [
      "[[3 5 2 4]\n",
      " [7 6 8 8]\n",
      " [1 6 7 7]]\n"
     ]
    }
   ],
   "source": [
    "b = np.random.randint(10, size = (3, 4)) # 2-D Array\n",
    "print(b)"
   ]
  },
  {
   "cell_type": "code",
   "execution_count": 22,
   "id": "41ecd991-dfec-4ee3-9781-e52a5f8f89bf",
   "metadata": {},
   "outputs": [
    {
     "name": "stdout",
     "output_type": "stream",
     "text": [
      "[[[8 1 5 9 8]\n",
      "  [9 4 3 0 3]\n",
      "  [5 0 2 3 8]\n",
      "  [1 3 3 3 7]]\n",
      "\n",
      " [[0 1 9 9 0]\n",
      "  [4 7 3 2 7]\n",
      "  [2 0 0 4 5]\n",
      "  [5 6 8 4 1]]\n",
      "\n",
      " [[4 9 8 1 1]\n",
      "  [7 9 9 3 6]\n",
      "  [7 2 0 3 5]\n",
      "  [9 4 4 6 4]]]\n"
     ]
    }
   ],
   "source": [
    "c = np.random.randint(10, size = (3, 4, 5)) # 3-D Array\n",
    "print(c)"
   ]
  },
  {
   "cell_type": "code",
   "execution_count": 23,
   "id": "1607a834-a7d8-404d-90e3-f1d3c4ecf678",
   "metadata": {},
   "outputs": [
    {
     "name": "stdout",
     "output_type": "stream",
     "text": [
      "3\n",
      "(3, 4, 5)\n",
      "60\n",
      "int32\n"
     ]
    }
   ],
   "source": [
    "print(c.ndim) # Dimension\n",
    "print(c.shape) # Shape\n",
    "print(c.size) # Size\n",
    "print(c.dtype) # Data Type"
   ]
  },
  {
   "cell_type": "code",
   "execution_count": 24,
   "id": "ce6fcdab-8272-4094-b84e-679f2a2dd8ca",
   "metadata": {},
   "outputs": [
    {
     "name": "stdout",
     "output_type": "stream",
     "text": [
      "itemsize: 4 bytes\n",
      "nbytes: 240 bytes\n"
     ]
    }
   ],
   "source": [
    "print(\"itemsize:\", c.itemsize, \"bytes\")\n",
    "print(\"nbytes:\", c.nbytes, \"bytes\") # nbytes = itemsize(in bytes) * size"
   ]
  },
  {
   "cell_type": "markdown",
   "id": "4a4cb9bf-ed71-4d20-9409-51de93da652e",
   "metadata": {},
   "source": [
    "# Array Indexing: Accessing Single Elements"
   ]
  },
  {
   "cell_type": "code",
   "execution_count": 25,
   "id": "a75c7b46-b0a1-46d9-a779-2fea3bebf798",
   "metadata": {},
   "outputs": [
    {
     "name": "stdout",
     "output_type": "stream",
     "text": [
      "[5 0 3 3 7 9]\n"
     ]
    }
   ],
   "source": [
    "print(a)"
   ]
  },
  {
   "cell_type": "code",
   "execution_count": 26,
   "id": "e4d73ce5-501e-4135-963f-a03a1672c74a",
   "metadata": {},
   "outputs": [
    {
     "name": "stdout",
     "output_type": "stream",
     "text": [
      "5\n"
     ]
    }
   ],
   "source": [
    "print(a[0]) # First element "
   ]
  },
  {
   "cell_type": "code",
   "execution_count": 27,
   "id": "d28db054-3465-4529-b845-a7920c814275",
   "metadata": {},
   "outputs": [
    {
     "name": "stdout",
     "output_type": "stream",
     "text": [
      "7\n"
     ]
    }
   ],
   "source": [
    "print(a[4]) # Fifth element "
   ]
  },
  {
   "cell_type": "code",
   "execution_count": 28,
   "id": "25686de6-9818-45db-ad1b-9fc01dc93438",
   "metadata": {},
   "outputs": [
    {
     "name": "stdout",
     "output_type": "stream",
     "text": [
      "9\n"
     ]
    }
   ],
   "source": [
    "print(a[-1]) # Last element"
   ]
  },
  {
   "cell_type": "code",
   "execution_count": 29,
   "id": "3e3de215-1414-4170-91e5-17e1f5d881c6",
   "metadata": {},
   "outputs": [
    {
     "name": "stdout",
     "output_type": "stream",
     "text": [
      "7\n"
     ]
    }
   ],
   "source": [
    "print(a[-2]) # Second last element"
   ]
  },
  {
   "cell_type": "code",
   "execution_count": 30,
   "id": "7a7c363e-a9f0-46a1-a8e3-60a9b11be5d2",
   "metadata": {},
   "outputs": [
    {
     "name": "stdout",
     "output_type": "stream",
     "text": [
      "[[3 5 2 4]\n",
      " [7 6 8 8]\n",
      " [1 6 7 7]]\n"
     ]
    }
   ],
   "source": [
    "print(b)"
   ]
  },
  {
   "cell_type": "code",
   "execution_count": 31,
   "id": "582d9c8f-cf09-4623-b3d7-398dc1fc0f78",
   "metadata": {},
   "outputs": [
    {
     "name": "stdout",
     "output_type": "stream",
     "text": [
      "3\n"
     ]
    }
   ],
   "source": [
    "print(b[0, 0]) # First element (Row, Column)"
   ]
  },
  {
   "cell_type": "code",
   "execution_count": 32,
   "id": "f95117b0-8ec1-40fc-8213-a7fefe48a4b5",
   "metadata": {},
   "outputs": [
    {
     "name": "stdout",
     "output_type": "stream",
     "text": [
      "1\n"
     ]
    }
   ],
   "source": [
    "print(b[2, 0]) # 3rd row, 1st column"
   ]
  },
  {
   "cell_type": "code",
   "execution_count": 33,
   "id": "713ffc23-8290-4788-9e21-d391b262058d",
   "metadata": {},
   "outputs": [
    {
     "name": "stdout",
     "output_type": "stream",
     "text": [
      "7\n"
     ]
    }
   ],
   "source": [
    "print(b[2, -1]) # 3rd row, 3rd column"
   ]
  },
  {
   "cell_type": "code",
   "execution_count": 34,
   "id": "afca10a9-fb58-4b84-94b7-473053e5b276",
   "metadata": {},
   "outputs": [
    {
     "name": "stdout",
     "output_type": "stream",
     "text": [
      "[[12  5  2  4]\n",
      " [ 7  6  8  8]\n",
      " [ 1  6  7  7]]\n"
     ]
    }
   ],
   "source": [
    "# Modifying the values\n",
    "b[0, 0] = 12\n",
    "print(b)"
   ]
  },
  {
   "cell_type": "code",
   "execution_count": 35,
   "id": "0b2dbc94-3ee8-41e6-829c-dfe78c8752cd",
   "metadata": {},
   "outputs": [
    {
     "name": "stdout",
     "output_type": "stream",
     "text": [
      "[[3 3 3 3]\n",
      " [7 6 8 8]\n",
      " [1 6 7 7]]\n"
     ]
    }
   ],
   "source": [
    "b[0] = 3.14159 # this will be truncated\n",
    "print(b)"
   ]
  },
  {
   "cell_type": "markdown",
   "id": "c275a51d-2d4f-49af-a621-6216a723f9cd",
   "metadata": {},
   "source": [
    "# Array Slicing: Accessing Subarrays"
   ]
  },
  {
   "cell_type": "code",
   "execution_count": 36,
   "id": "dd3f799b-83a6-49f0-a016-2154a387e250",
   "metadata": {},
   "outputs": [
    {
     "name": "stdout",
     "output_type": "stream",
     "text": [
      "[0 1 2 3 4 5 6 7 8 9]\n",
      "[0 1 2 3 4]\n",
      "[5 6 7 8 9]\n",
      "[4 5 6]\n",
      "[0 2 4 6 8]\n",
      "[1 3 5 7 9]\n",
      "[9 8 7 6 5 4 3 2 1 0]\n",
      "[5 3 1]\n"
     ]
    }
   ],
   "source": [
    "#1-D Array\n",
    "x = np.arange(10)\n",
    "print(x)\n",
    "print(x[:5]) # First five elements\n",
    "print(x[5:]) # elements after index 5\n",
    "print(x[4:7]) # middle subarray\n",
    "print(x[::2]) # every other element\n",
    "print(x[1::2]) # every other element. starting at index 1\n",
    "print(x[::-1]) # all elements reversed\n",
    "print(x[5::-2]) # reversed every other from index 5      "
   ]
  },
  {
   "cell_type": "code",
   "execution_count": 37,
   "id": "bf4758b4-80cb-4514-842a-662de9e6e878",
   "metadata": {},
   "outputs": [
    {
     "name": "stdout",
     "output_type": "stream",
     "text": [
      "[[3 3 3 3]\n",
      " [7 6 8 8]\n",
      " [1 6 7 7]]\n",
      "[[3 3 3]\n",
      " [7 6 8]]\n",
      "[[3 3]\n",
      " [7 8]\n",
      " [1 7]]\n",
      "[[7 7 6 1]\n",
      " [8 8 6 7]\n",
      " [3 3 3 3]]\n"
     ]
    }
   ],
   "source": [
    "# Multidimensional subarrays\n",
    "print(b)\n",
    "print(b[:2, :3]) # two rows, three columns\n",
    "print(b[:3, ::2]) # all rows, every other column\n",
    "print(b[::-1, ::-1]) # Flip the array both vertically and horizontally (like a 180° rotation)"
   ]
  },
  {
   "cell_type": "code",
   "execution_count": 38,
   "id": "a8fc155a-4b8c-4e41-8b6c-21cba8804792",
   "metadata": {},
   "outputs": [
    {
     "name": "stdout",
     "output_type": "stream",
     "text": [
      "[3 7 1]\n",
      "[3 3 3 3]\n",
      "[3 3 3 3]\n"
     ]
    }
   ],
   "source": [
    "# Accessing array rows and columns\n",
    "print(b[:, 0]) # first column of 'b'\n",
    "print(b[0, :]) # first row of 'b'\n",
    "print(b[0]) # equivalent to b[0, :]"
   ]
  },
  {
   "cell_type": "code",
   "execution_count": 39,
   "id": "2c9a2dca-64de-4062-8d16-f0426053cc9e",
   "metadata": {},
   "outputs": [
    {
     "name": "stdout",
     "output_type": "stream",
     "text": [
      "[[3 3 3 3]\n",
      " [7 6 8 8]\n",
      " [1 6 7 7]]\n",
      "[[3 3]\n",
      " [7 6]]\n",
      "[[99  3]\n",
      " [ 7  6]]\n",
      "[[99  3  3  3]\n",
      " [ 7  6  8  8]\n",
      " [ 1  6  7  7]]\n"
     ]
    }
   ],
   "source": [
    "# Subarrays as no-copy views\n",
    "print(b)\n",
    "\n",
    "b_sub = b[:2, :2]\n",
    "print(b_sub)\n",
    "\n",
    "# If we modify this subarray, then original array will change\n",
    "b_sub[0, 0] = 99\n",
    "print(b_sub)\n",
    "\n",
    "print(b) # Original array is changed"
   ]
  },
  {
   "cell_type": "code",
   "execution_count": 40,
   "id": "fd92af6d-dbe7-4da3-9fe5-59b16c988f0e",
   "metadata": {},
   "outputs": [
    {
     "name": "stdout",
     "output_type": "stream",
     "text": [
      "[[42  3]\n",
      " [ 7  6]]\n",
      "[[99  3  3  3]\n",
      " [ 7  6  8  8]\n",
      " [ 1  6  7  7]]\n"
     ]
    }
   ],
   "source": [
    "# Creating copies of arrays\n",
    "b_sub_copy = b[:2, :2].copy()\n",
    "\n",
    "# Modifying the subarray\n",
    "b_sub_copy[0, 0] = 42\n",
    "print(b_sub_copy)\n",
    "\n",
    "print(b) # Original array is not changed"
   ]
  },
  {
   "cell_type": "markdown",
   "id": "b8faf767-f21d-4a72-870d-4ee347c94da8",
   "metadata": {},
   "source": [
    "# Reshaping of Arrays"
   ]
  },
  {
   "cell_type": "code",
   "execution_count": 43,
   "id": "7d975a6c-6761-445a-aaf8-0334e54d5b4e",
   "metadata": {},
   "outputs": [
    {
     "name": "stdout",
     "output_type": "stream",
     "text": [
      "[[1 2 3]\n",
      " [4 5 6]\n",
      " [7 8 9]]\n"
     ]
    }
   ],
   "source": [
    "grid = np.arange(1, 10).reshape((3,3))\n",
    "print(grid)"
   ]
  },
  {
   "cell_type": "code",
   "execution_count": 44,
   "id": "cf074e98-f977-4643-ba2a-0c8802dc4d8d",
   "metadata": {},
   "outputs": [
    {
     "name": "stdout",
     "output_type": "stream",
     "text": [
      "[[1 2 3]]\n"
     ]
    }
   ],
   "source": [
    "# row vector via reshape\n",
    "a = np.array([1, 2, 3])\n",
    "print(a.reshape((1,3)))"
   ]
  },
  {
   "cell_type": "code",
   "execution_count": 46,
   "id": "e745e2ac-d2d8-4062-b33c-7bacfb9c39f1",
   "metadata": {},
   "outputs": [
    {
     "name": "stdout",
     "output_type": "stream",
     "text": [
      "[[1 2 3]]\n"
     ]
    }
   ],
   "source": [
    "# row vector via newaxis\n",
    "print(a[np.newaxis, :])"
   ]
  },
  {
   "cell_type": "code",
   "execution_count": 48,
   "id": "aa3e3ad8-c232-4030-90fb-58766f445589",
   "metadata": {},
   "outputs": [
    {
     "name": "stdout",
     "output_type": "stream",
     "text": [
      "[[1]\n",
      " [2]\n",
      " [3]]\n"
     ]
    }
   ],
   "source": [
    "# column vector via reshape\n",
    "print(a.reshape((3,1)))"
   ]
  },
  {
   "cell_type": "code",
   "execution_count": 49,
   "id": "a11dd67d-8bab-4df3-8620-35552a94348b",
   "metadata": {},
   "outputs": [
    {
     "name": "stdout",
     "output_type": "stream",
     "text": [
      "[[1]\n",
      " [2]\n",
      " [3]]\n"
     ]
    }
   ],
   "source": [
    "# column vector via newaxis\n",
    "print(a[:, np.newaxis])"
   ]
  },
  {
   "cell_type": "markdown",
   "id": "2ac6b648-5cc5-4218-a145-4433277c95ac",
   "metadata": {},
   "source": [
    "# Array Concatenation and Splitting"
   ]
  },
  {
   "cell_type": "code",
   "execution_count": 56,
   "id": "34a4ec47-6c18-4913-989a-f9c3275b9dbd",
   "metadata": {},
   "outputs": [
    {
     "name": "stdout",
     "output_type": "stream",
     "text": [
      "[1 2 3 4 5 6]\n"
     ]
    }
   ],
   "source": [
    "# Concatenation of arrays\n",
    "x = np.array([1, 2, 3])\n",
    "y = np.array([4, 5, 6])\n",
    "print(np.concatenate([x,y]))"
   ]
  },
  {
   "cell_type": "code",
   "execution_count": 58,
   "id": "b6575d3b-909d-4873-b290-b303e60f56ab",
   "metadata": {},
   "outputs": [
    {
     "name": "stdout",
     "output_type": "stream",
     "text": [
      "[1 2 3 4 5 6 7 8 9]\n"
     ]
    }
   ],
   "source": [
    "# Concatenation of more than two arrays \n",
    "x = np.array([1, 2, 3])\n",
    "y = np.array([4, 5, 6])\n",
    "z = np.array([7, 8, 9])\n",
    "print(np.concatenate([x,y,z]))"
   ]
  },
  {
   "cell_type": "code",
   "execution_count": 62,
   "id": "f01d57f7-1d2c-4a54-ad0c-e3b2440041d1",
   "metadata": {},
   "outputs": [
    {
     "name": "stdout",
     "output_type": "stream",
     "text": [
      "[[1 2 3]\n",
      " [4 5 6]\n",
      " [1 2 3]\n",
      " [4 5 6]]\n",
      "[[1 2 3 1 2 3]\n",
      " [4 5 6 4 5 6]]\n"
     ]
    }
   ],
   "source": [
    "# Concatenation of 2-D arrays\n",
    "grid = np.array([[1, 2, 3],[4, 5, 6]])\n",
    "print(np.concatenate([grid, grid])) # concatenate along the first axis(down the rows -> axis=0)\n",
    "print(np.concatenate([grid, grid], axis=1)) # concatenate along the second axis(along the columns)"
   ]
  },
  {
   "cell_type": "code",
   "execution_count": 63,
   "id": "c273f19d-d532-45d0-8152-954e4157b740",
   "metadata": {},
   "outputs": [
    {
     "name": "stdout",
     "output_type": "stream",
     "text": [
      "[[1 2 3]\n",
      " [9 8 7]\n",
      " [6 5 4]]\n"
     ]
    }
   ],
   "source": [
    "# np.vstack function\n",
    "x = np.array([1, 2, 3])\n",
    "grid = np.array([[9, 8, 7],\n",
    "                 [6, 5, 4]])\n",
    "\n",
    "# vertically stack the arrays\n",
    "print(np.vstack([x, grid]))"
   ]
  },
  {
   "cell_type": "code",
   "execution_count": 66,
   "id": "ae6c0806-f81a-4af8-8a28-25822cfb351c",
   "metadata": {},
   "outputs": [
    {
     "name": "stdout",
     "output_type": "stream",
     "text": [
      "[[ 9  8  7 99]\n",
      " [ 6  5  4 99]]\n"
     ]
    }
   ],
   "source": [
    "y = np.array([[99],\n",
    "              [99]])\n",
    "\n",
    "# horizontally stack the arrays\n",
    "print(np.hstack([grid, y]))"
   ]
  },
  {
   "cell_type": "code",
   "execution_count": 67,
   "id": "b8376da1-4206-495e-952d-ab5fdaf3be21",
   "metadata": {},
   "outputs": [
    {
     "name": "stdout",
     "output_type": "stream",
     "text": [
      "[1 2 3] [99 99] [3 2 1]\n"
     ]
    }
   ],
   "source": [
    "# Splitting of arrays\n",
    "x = [1, 2, 3, 99, 99, 3, 2, 1]\n",
    "x1, x2, x3 = np.split(x, [3,5]) # [First split, Second split]\n",
    "print(x1, x2, x3)"
   ]
  },
  {
   "cell_type": "code",
   "execution_count": 73,
   "id": "4481f046-6c37-4c94-add1-36ab50a5a29e",
   "metadata": {},
   "outputs": [
    {
     "name": "stdout",
     "output_type": "stream",
     "text": [
      "[[ 0  1  2  3]\n",
      " [ 4  5  6  7]\n",
      " [ 8  9 10 11]\n",
      " [12 13 14 15]]\n",
      "[[0 1 2 3]\n",
      " [4 5 6 7]]\n",
      "[[ 8  9 10 11]\n",
      " [12 13 14 15]]\n",
      "[[ 0  1]\n",
      " [ 4  5]\n",
      " [ 8  9]\n",
      " [12 13]]\n",
      "[[ 2  3]\n",
      " [ 6  7]\n",
      " [10 11]\n",
      " [14 15]]\n"
     ]
    }
   ],
   "source": [
    "# Vertical and Horizontal splitting\n",
    "grid = np.arange(16).reshape((4,4))\n",
    "print(grid)\n",
    "\n",
    "# Vertical splitting\n",
    "upper, lower = np.vsplit(grid, [2])\n",
    "print(upper)\n",
    "print(lower)\n",
    "\n",
    "# Horizontal splitting\n",
    "left, right = np.hsplit(grid, [2])\n",
    "print(left)\n",
    "print(right)"
   ]
  }
 ],
 "metadata": {
  "kernelspec": {
   "display_name": "Python [conda env:base] *",
   "language": "python",
   "name": "conda-base-py"
  },
  "language_info": {
   "codemirror_mode": {
    "name": "ipython",
    "version": 3
   },
   "file_extension": ".py",
   "mimetype": "text/x-python",
   "name": "python",
   "nbconvert_exporter": "python",
   "pygments_lexer": "ipython3",
   "version": "3.12.4"
  }
 },
 "nbformat": 4,
 "nbformat_minor": 5
}
